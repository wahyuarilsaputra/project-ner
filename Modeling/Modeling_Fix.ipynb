{
  "cells": [
    {
      "cell_type": "markdown",
      "metadata": {
        "id": "Kxb6RDHNjneE"
      },
      "source": [
        "# Training Model Bi-LSTM"
      ]
    },
    {
      "cell_type": "markdown",
      "metadata": {
        "id": "NUflmJWmjneJ"
      },
      "source": [
        "## Import Library"
      ]
    },
    {
      "cell_type": "code",
      "execution_count": 1,
      "metadata": {
        "_cell_guid": "b1076dfc-b9ad-4769-8c92-a6c4dae69d19",
        "_uuid": "8f2839f25d086af736a60e9eeb907d3b93b6e0e5",
        "execution": {
          "iopub.execute_input": "2024-06-28T12:09:51.793158Z",
          "iopub.status.busy": "2024-06-28T12:09:51.792806Z",
          "iopub.status.idle": "2024-06-28T12:10:46.575079Z",
          "shell.execute_reply": "2024-06-28T12:10:46.573888Z",
          "shell.execute_reply.started": "2024-06-28T12:09:51.793127Z"
        },
        "id": "WxjB4MGTjneK",
        "trusted": true
      },
      "outputs": [
        {
          "name": "stdout",
          "output_type": "stream",
          "text": [
            "WARNING:tensorflow:From c:\\Users\\HP\\AppData\\Local\\Programs\\Python\\Python311\\Lib\\site-packages\\keras\\src\\losses.py:2976: The name tf.losses.sparse_softmax_cross_entropy is deprecated. Please use tf.compat.v1.losses.sparse_softmax_cross_entropy instead.\n",
            "\n"
          ]
        }
      ],
      "source": [
        "from __future__ import absolute_import, division, print_function, unicode_literals\n",
        "\n",
        "import tensorflow as tf\n",
        "import keras\n",
        "\n",
        "import pandas as pd\n",
        "import numpy as np\n",
        "import matplotlib.pyplot as plt\n",
        "import random\n",
        "import os\n",
        "SEED = 42\n",
        "np.random.seed(SEED)\n",
        "tf.random.set_seed(SEED)\n",
        "random.seed(SEED)\n",
        "os.environ['PYTHONHASHSEED'] = str(SEED)"
      ]
    },
    {
      "cell_type": "code",
      "execution_count": 2,
      "metadata": {
        "colab": {
          "base_uri": "https://localhost:8080/"
        },
        "execution": {
          "iopub.execute_input": "2024-06-28T12:10:46.577927Z",
          "iopub.status.busy": "2024-06-28T12:10:46.577227Z",
          "iopub.status.idle": "2024-06-28T12:10:46.583468Z",
          "shell.execute_reply": "2024-06-28T12:10:46.582531Z",
          "shell.execute_reply.started": "2024-06-28T12:10:46.577886Z"
        },
        "id": "DYmV9FP6jneN",
        "outputId": "d368bd10-c0cc-4e64-d408-22b227a1e01d",
        "trusted": true
      },
      "outputs": [
        {
          "name": "stdout",
          "output_type": "stream",
          "text": [
            "2.15.0\n"
          ]
        }
      ],
      "source": [
        "print(tf.__version__)"
      ]
    },
    {
      "cell_type": "markdown",
      "metadata": {
        "id": "S2uNOMY3jneO"
      },
      "source": [
        "## Set Parameter"
      ]
    },
    {
      "cell_type": "code",
      "execution_count": 3,
      "metadata": {
        "execution": {
          "iopub.execute_input": "2024-06-28T12:10:46.585013Z",
          "iopub.status.busy": "2024-06-28T12:10:46.584710Z",
          "iopub.status.idle": "2024-06-28T12:10:46.607066Z",
          "shell.execute_reply": "2024-06-28T12:10:46.605928Z",
          "shell.execute_reply.started": "2024-06-28T12:10:46.584987Z"
        },
        "id": "tx52hGdEjneO",
        "trusted": true
      },
      "outputs": [],
      "source": [
        "BATCH_SIZE = 64  # Number of examples used in each iteration\n",
        "EPOCHS = 50  # Number of passes through entire dataset\n",
        "MAX_LEN = 200  # Max length of review (in words)\n",
        "EMBEDDING = 100  # Dimension of word embedding vector"
      ]
    },
    {
      "cell_type": "markdown",
      "metadata": {
        "id": "Gp4barTNjneO"
      },
      "source": [
        "## Load Dataset"
      ]
    },
    {
      "cell_type": "code",
      "execution_count": 4,
      "metadata": {
        "colab": {
          "base_uri": "https://localhost:8080/"
        },
        "execution": {
          "iopub.execute_input": "2024-06-28T12:10:46.609767Z",
          "iopub.status.busy": "2024-06-28T12:10:46.609457Z",
          "iopub.status.idle": "2024-06-28T12:11:11.770152Z",
          "shell.execute_reply": "2024-06-28T12:11:11.769027Z",
          "shell.execute_reply.started": "2024-06-28T12:10:46.609741Z"
        },
        "id": "RD9ODkQhjneP",
        "outputId": "d155f646-fd2e-4146-dd0f-e2de408a847f",
        "trusted": true
      },
      "outputs": [],
      "source": [
        "import pandas as pd\n",
        "import numpy as np\n",
        "import matplotlib.pyplot as plt\n",
        "plt.style.use(\"ggplot\")\n",
        "\n",
        "data = pd.read_csv(\"..\\Data\\Dataset-500PidanaFix.csv\", encoding=\"latin1\")\n",
        "\n",
        "data['word'] = data['word'].replace(to_replace ='\\d+', value = '<\\g<0>>', regex = True)\n",
        "data = data.fillna(method=\"ffill\")"
      ]
    },
    {
      "cell_type": "code",
      "execution_count": 5,
      "metadata": {
        "colab": {
          "base_uri": "https://localhost:8080/",
          "height": 424
        },
        "execution": {
          "iopub.execute_input": "2024-06-28T12:11:11.771678Z",
          "iopub.status.busy": "2024-06-28T12:11:11.771411Z",
          "iopub.status.idle": "2024-06-28T12:11:11.794971Z",
          "shell.execute_reply": "2024-06-28T12:11:11.793771Z",
          "shell.execute_reply.started": "2024-06-28T12:11:11.771654Z"
        },
        "id": "m7zm4DzCjneQ",
        "outputId": "8f18928a-3010-4ad7-c1e6-cb84c2d793b8",
        "trusted": true
      },
      "outputs": [
        {
          "data": {
            "text/html": [
              "<div>\n",
              "<style scoped>\n",
              "    .dataframe tbody tr th:only-of-type {\n",
              "        vertical-align: middle;\n",
              "    }\n",
              "\n",
              "    .dataframe tbody tr th {\n",
              "        vertical-align: top;\n",
              "    }\n",
              "\n",
              "    .dataframe thead th {\n",
              "        text-align: right;\n",
              "    }\n",
              "</style>\n",
              "<table border=\"1\" class=\"dataframe\">\n",
              "  <thead>\n",
              "    <tr style=\"text-align: right;\">\n",
              "      <th></th>\n",
              "      <th>doc</th>\n",
              "      <th>sentence</th>\n",
              "      <th>word</th>\n",
              "      <th>prev</th>\n",
              "      <th>next</th>\n",
              "      <th>tag</th>\n",
              "    </tr>\n",
              "  </thead>\n",
              "  <tbody>\n",
              "    <tr>\n",
              "      <th>0</th>\n",
              "      <td>doc:0</td>\n",
              "      <td>sentence: 000001</td>\n",
              "      <td>putusan</td>\n",
              "      <td>.</td>\n",
              "      <td>nomor</td>\n",
              "      <td>O</td>\n",
              "    </tr>\n",
              "    <tr>\n",
              "      <th>1</th>\n",
              "      <td>doc:0</td>\n",
              "      <td>sentence: 000001</td>\n",
              "      <td>nomor</td>\n",
              "      <td>putusan</td>\n",
              "      <td>48</td>\n",
              "      <td>O</td>\n",
              "    </tr>\n",
              "    <tr>\n",
              "      <th>2</th>\n",
              "      <td>doc:0</td>\n",
              "      <td>sentence: 000001</td>\n",
              "      <td>&lt;48&gt;</td>\n",
              "      <td>nomor</td>\n",
              "      <td>/</td>\n",
              "      <td>B_VERN</td>\n",
              "    </tr>\n",
              "    <tr>\n",
              "      <th>3</th>\n",
              "      <td>doc:0</td>\n",
              "      <td>sentence: 000001</td>\n",
              "      <td>/</td>\n",
              "      <td>48</td>\n",
              "      <td>pid</td>\n",
              "      <td>I_VERN</td>\n",
              "    </tr>\n",
              "    <tr>\n",
              "      <th>4</th>\n",
              "      <td>doc:0</td>\n",
              "      <td>sentence: 000001</td>\n",
              "      <td>pid</td>\n",
              "      <td>/</td>\n",
              "      <td>.</td>\n",
              "      <td>I_VERN</td>\n",
              "    </tr>\n",
              "    <tr>\n",
              "      <th>...</th>\n",
              "      <td>...</td>\n",
              "      <td>...</td>\n",
              "      <td>...</td>\n",
              "      <td>...</td>\n",
              "      <td>...</td>\n",
              "      <td>...</td>\n",
              "    </tr>\n",
              "    <tr>\n",
              "      <th>4082187</th>\n",
              "      <td>doc:601</td>\n",
              "      <td>sentence: 078262</td>\n",
              "      <td>panitera</td>\n",
              "      <td>.</td>\n",
              "      <td>pengganti</td>\n",
              "      <td>O</td>\n",
              "    </tr>\n",
              "    <tr>\n",
              "      <th>4082188</th>\n",
              "      <td>doc:601</td>\n",
              "      <td>sentence: 078262</td>\n",
              "      <td>pengganti</td>\n",
              "      <td>panitera</td>\n",
              "      <td>,</td>\n",
              "      <td>O</td>\n",
              "    </tr>\n",
              "    <tr>\n",
              "      <th>4082189</th>\n",
              "      <td>doc:601</td>\n",
              "      <td>sentence: 078262</td>\n",
              "      <td>,</td>\n",
              "      <td>pengganti</td>\n",
              "      <td>ttd</td>\n",
              "      <td>O</td>\n",
              "    </tr>\n",
              "    <tr>\n",
              "      <th>4082190</th>\n",
              "      <td>doc:601</td>\n",
              "      <td>sentence: 078262</td>\n",
              "      <td>ttd</td>\n",
              "      <td>,</td>\n",
              "      <td>suraji</td>\n",
              "      <td>O</td>\n",
              "    </tr>\n",
              "    <tr>\n",
              "      <th>4082191</th>\n",
              "      <td>doc:601</td>\n",
              "      <td>sentence: 078262</td>\n",
              "      <td>suraji</td>\n",
              "      <td>ttd</td>\n",
              "      <td>.</td>\n",
              "      <td>B_REGI</td>\n",
              "    </tr>\n",
              "  </tbody>\n",
              "</table>\n",
              "<p>4082192 rows × 6 columns</p>\n",
              "</div>"
            ],
            "text/plain": [
              "             doc          sentence       word       prev       next     tag\n",
              "0          doc:0  sentence: 000001    putusan          .      nomor       O\n",
              "1          doc:0  sentence: 000001      nomor    putusan         48       O\n",
              "2          doc:0  sentence: 000001       <48>      nomor          /  B_VERN\n",
              "3          doc:0  sentence: 000001          /         48        pid  I_VERN\n",
              "4          doc:0  sentence: 000001        pid          /          .  I_VERN\n",
              "...          ...               ...        ...        ...        ...     ...\n",
              "4082187  doc:601  sentence: 078262   panitera          .  pengganti       O\n",
              "4082188  doc:601  sentence: 078262  pengganti   panitera          ,       O\n",
              "4082189  doc:601  sentence: 078262          ,  pengganti        ttd       O\n",
              "4082190  doc:601  sentence: 078262        ttd          ,     suraji       O\n",
              "4082191  doc:601  sentence: 078262     suraji        ttd          .  B_REGI\n",
              "\n",
              "[4082192 rows x 6 columns]"
            ]
          },
          "execution_count": 5,
          "metadata": {},
          "output_type": "execute_result"
        }
      ],
      "source": [
        "data"
      ]
    },
    {
      "cell_type": "code",
      "execution_count": 6,
      "metadata": {
        "colab": {
          "base_uri": "https://localhost:8080/",
          "height": 802
        },
        "execution": {
          "iopub.execute_input": "2024-06-28T12:11:11.796427Z",
          "iopub.status.busy": "2024-06-28T12:11:11.796109Z",
          "iopub.status.idle": "2024-06-28T12:11:14.299292Z",
          "shell.execute_reply": "2024-06-28T12:11:14.298252Z",
          "shell.execute_reply.started": "2024-06-28T12:11:11.796400Z"
        },
        "id": "dpwfUbGGjneQ",
        "outputId": "0525f189-5ce8-4900-92cf-e657793b9201",
        "trusted": true
      },
      "outputs": [
        {
          "data": {
            "text/html": [
              "<div>\n",
              "<style scoped>\n",
              "    .dataframe tbody tr th:only-of-type {\n",
              "        vertical-align: middle;\n",
              "    }\n",
              "\n",
              "    .dataframe tbody tr th {\n",
              "        vertical-align: top;\n",
              "    }\n",
              "\n",
              "    .dataframe thead th {\n",
              "        text-align: right;\n",
              "    }\n",
              "</style>\n",
              "<table border=\"1\" class=\"dataframe\">\n",
              "  <thead>\n",
              "    <tr style=\"text-align: right;\">\n",
              "      <th></th>\n",
              "      <th>doc</th>\n",
              "      <th>sentence</th>\n",
              "      <th>word</th>\n",
              "      <th>prev</th>\n",
              "      <th>next</th>\n",
              "    </tr>\n",
              "    <tr>\n",
              "      <th>tag</th>\n",
              "      <th></th>\n",
              "      <th></th>\n",
              "      <th></th>\n",
              "      <th></th>\n",
              "      <th></th>\n",
              "    </tr>\n",
              "  </thead>\n",
              "  <tbody>\n",
              "    <tr>\n",
              "      <th>B_ARTV</th>\n",
              "      <td>1509</td>\n",
              "      <td>1509</td>\n",
              "      <td>1509</td>\n",
              "      <td>1509</td>\n",
              "      <td>1509</td>\n",
              "    </tr>\n",
              "    <tr>\n",
              "      <th>B_CRIA</th>\n",
              "      <td>2625</td>\n",
              "      <td>2625</td>\n",
              "      <td>2625</td>\n",
              "      <td>2625</td>\n",
              "      <td>2625</td>\n",
              "    </tr>\n",
              "    <tr>\n",
              "      <th>B_DEFN</th>\n",
              "      <td>10914</td>\n",
              "      <td>10914</td>\n",
              "      <td>10914</td>\n",
              "      <td>10914</td>\n",
              "      <td>10914</td>\n",
              "    </tr>\n",
              "    <tr>\n",
              "      <th>B_JUDP</th>\n",
              "      <td>1195</td>\n",
              "      <td>1195</td>\n",
              "      <td>1195</td>\n",
              "      <td>1195</td>\n",
              "      <td>1195</td>\n",
              "    </tr>\n",
              "    <tr>\n",
              "      <th>B_JUG</th>\n",
              "      <td>2243</td>\n",
              "      <td>2243</td>\n",
              "      <td>2243</td>\n",
              "      <td>2243</td>\n",
              "      <td>2243</td>\n",
              "    </tr>\n",
              "    <tr>\n",
              "      <th>B_PENA</th>\n",
              "      <td>603</td>\n",
              "      <td>603</td>\n",
              "      <td>603</td>\n",
              "      <td>603</td>\n",
              "      <td>603</td>\n",
              "    </tr>\n",
              "    <tr>\n",
              "      <th>B_PROS</th>\n",
              "      <td>549</td>\n",
              "      <td>549</td>\n",
              "      <td>549</td>\n",
              "      <td>549</td>\n",
              "      <td>549</td>\n",
              "    </tr>\n",
              "    <tr>\n",
              "      <th>B_PUNI</th>\n",
              "      <td>755</td>\n",
              "      <td>755</td>\n",
              "      <td>755</td>\n",
              "      <td>755</td>\n",
              "      <td>755</td>\n",
              "    </tr>\n",
              "    <tr>\n",
              "      <th>B_REGI</th>\n",
              "      <td>1138</td>\n",
              "      <td>1138</td>\n",
              "      <td>1138</td>\n",
              "      <td>1138</td>\n",
              "      <td>1138</td>\n",
              "    </tr>\n",
              "    <tr>\n",
              "      <th>B_TIMV</th>\n",
              "      <td>638</td>\n",
              "      <td>638</td>\n",
              "      <td>638</td>\n",
              "      <td>638</td>\n",
              "      <td>638</td>\n",
              "    </tr>\n",
              "    <tr>\n",
              "      <th>B_VERN</th>\n",
              "      <td>1846</td>\n",
              "      <td>1846</td>\n",
              "      <td>1846</td>\n",
              "      <td>1846</td>\n",
              "      <td>1846</td>\n",
              "    </tr>\n",
              "    <tr>\n",
              "      <th>I_ARTV</th>\n",
              "      <td>14784</td>\n",
              "      <td>14784</td>\n",
              "      <td>14784</td>\n",
              "      <td>14784</td>\n",
              "      <td>14784</td>\n",
              "    </tr>\n",
              "    <tr>\n",
              "      <th>I_CRIA</th>\n",
              "      <td>3592</td>\n",
              "      <td>3592</td>\n",
              "      <td>3592</td>\n",
              "      <td>3592</td>\n",
              "      <td>3592</td>\n",
              "    </tr>\n",
              "    <tr>\n",
              "      <th>I_DEFN</th>\n",
              "      <td>28295</td>\n",
              "      <td>28295</td>\n",
              "      <td>28295</td>\n",
              "      <td>28295</td>\n",
              "      <td>28295</td>\n",
              "    </tr>\n",
              "    <tr>\n",
              "      <th>I_JUDP</th>\n",
              "      <td>1382</td>\n",
              "      <td>1382</td>\n",
              "      <td>1382</td>\n",
              "      <td>1382</td>\n",
              "      <td>1382</td>\n",
              "    </tr>\n",
              "    <tr>\n",
              "      <th>I_JUG</th>\n",
              "      <td>3408</td>\n",
              "      <td>3408</td>\n",
              "      <td>3408</td>\n",
              "      <td>3408</td>\n",
              "      <td>3408</td>\n",
              "    </tr>\n",
              "    <tr>\n",
              "      <th>I_PENA</th>\n",
              "      <td>3758</td>\n",
              "      <td>3758</td>\n",
              "      <td>3758</td>\n",
              "      <td>3758</td>\n",
              "      <td>3758</td>\n",
              "    </tr>\n",
              "    <tr>\n",
              "      <th>I_PROS</th>\n",
              "      <td>895</td>\n",
              "      <td>895</td>\n",
              "      <td>895</td>\n",
              "      <td>895</td>\n",
              "      <td>895</td>\n",
              "    </tr>\n",
              "    <tr>\n",
              "      <th>I_PUNI</th>\n",
              "      <td>4279</td>\n",
              "      <td>4279</td>\n",
              "      <td>4279</td>\n",
              "      <td>4279</td>\n",
              "      <td>4279</td>\n",
              "    </tr>\n",
              "    <tr>\n",
              "      <th>I_REGI</th>\n",
              "      <td>1494</td>\n",
              "      <td>1494</td>\n",
              "      <td>1494</td>\n",
              "      <td>1494</td>\n",
              "      <td>1494</td>\n",
              "    </tr>\n",
              "    <tr>\n",
              "      <th>I_TIMV</th>\n",
              "      <td>1434</td>\n",
              "      <td>1434</td>\n",
              "      <td>1434</td>\n",
              "      <td>1434</td>\n",
              "      <td>1434</td>\n",
              "    </tr>\n",
              "    <tr>\n",
              "      <th>I_VERN</th>\n",
              "      <td>16703</td>\n",
              "      <td>16703</td>\n",
              "      <td>16703</td>\n",
              "      <td>16703</td>\n",
              "      <td>16703</td>\n",
              "    </tr>\n",
              "    <tr>\n",
              "      <th>O</th>\n",
              "      <td>3978153</td>\n",
              "      <td>3978153</td>\n",
              "      <td>3978153</td>\n",
              "      <td>3978153</td>\n",
              "      <td>3978153</td>\n",
              "    </tr>\n",
              "  </tbody>\n",
              "</table>\n",
              "</div>"
            ],
            "text/plain": [
              "            doc  sentence     word     prev     next\n",
              "tag                                                 \n",
              "B_ARTV     1509      1509     1509     1509     1509\n",
              "B_CRIA     2625      2625     2625     2625     2625\n",
              "B_DEFN    10914     10914    10914    10914    10914\n",
              "B_JUDP     1195      1195     1195     1195     1195\n",
              "B_JUG      2243      2243     2243     2243     2243\n",
              "B_PENA      603       603      603      603      603\n",
              "B_PROS      549       549      549      549      549\n",
              "B_PUNI      755       755      755      755      755\n",
              "B_REGI     1138      1138     1138     1138     1138\n",
              "B_TIMV      638       638      638      638      638\n",
              "B_VERN     1846      1846     1846     1846     1846\n",
              "I_ARTV    14784     14784    14784    14784    14784\n",
              "I_CRIA     3592      3592     3592     3592     3592\n",
              "I_DEFN    28295     28295    28295    28295    28295\n",
              "I_JUDP     1382      1382     1382     1382     1382\n",
              "I_JUG      3408      3408     3408     3408     3408\n",
              "I_PENA     3758      3758     3758     3758     3758\n",
              "I_PROS      895       895      895      895      895\n",
              "I_PUNI     4279      4279     4279     4279     4279\n",
              "I_REGI     1494      1494     1494     1494     1494\n",
              "I_TIMV     1434      1434     1434     1434     1434\n",
              "I_VERN    16703     16703    16703    16703    16703\n",
              "O       3978153   3978153  3978153  3978153  3978153"
            ]
          },
          "execution_count": 6,
          "metadata": {},
          "output_type": "execute_result"
        }
      ],
      "source": [
        "data.groupby('tag').count()"
      ]
    },
    {
      "cell_type": "markdown",
      "metadata": {
        "id": "a-9o_5h6jneR"
      },
      "source": [
        "### Menghapus Sentence dengan tag O yang dominan"
      ]
    },
    {
      "cell_type": "code",
      "execution_count": 7,
      "metadata": {
        "colab": {
          "base_uri": "https://localhost:8080/",
          "height": 424
        },
        "execution": {
          "iopub.execute_input": "2024-06-28T12:11:14.301232Z",
          "iopub.status.busy": "2024-06-28T12:11:14.300790Z",
          "iopub.status.idle": "2024-06-28T12:13:13.970549Z",
          "shell.execute_reply": "2024-06-28T12:13:13.969566Z",
          "shell.execute_reply.started": "2024-06-28T12:11:14.301195Z"
        },
        "id": "bZKl4U-vjneR",
        "outputId": "ba018ce5-54b9-4fef-b719-1ca65d0c1fde",
        "trusted": true
      },
      "outputs": [
        {
          "data": {
            "text/html": [
              "<div>\n",
              "<style scoped>\n",
              "    .dataframe tbody tr th:only-of-type {\n",
              "        vertical-align: middle;\n",
              "    }\n",
              "\n",
              "    .dataframe tbody tr th {\n",
              "        vertical-align: top;\n",
              "    }\n",
              "\n",
              "    .dataframe thead th {\n",
              "        text-align: right;\n",
              "    }\n",
              "</style>\n",
              "<table border=\"1\" class=\"dataframe\">\n",
              "  <thead>\n",
              "    <tr style=\"text-align: right;\">\n",
              "      <th></th>\n",
              "      <th>doc</th>\n",
              "      <th>sentence</th>\n",
              "      <th>word</th>\n",
              "      <th>prev</th>\n",
              "      <th>next</th>\n",
              "      <th>tag</th>\n",
              "    </tr>\n",
              "  </thead>\n",
              "  <tbody>\n",
              "    <tr>\n",
              "      <th>0</th>\n",
              "      <td>doc:0</td>\n",
              "      <td>sentence: 000001</td>\n",
              "      <td>putusan</td>\n",
              "      <td>.</td>\n",
              "      <td>nomor</td>\n",
              "      <td>O</td>\n",
              "    </tr>\n",
              "    <tr>\n",
              "      <th>1</th>\n",
              "      <td>doc:0</td>\n",
              "      <td>sentence: 000001</td>\n",
              "      <td>nomor</td>\n",
              "      <td>putusan</td>\n",
              "      <td>48</td>\n",
              "      <td>O</td>\n",
              "    </tr>\n",
              "    <tr>\n",
              "      <th>2</th>\n",
              "      <td>doc:0</td>\n",
              "      <td>sentence: 000001</td>\n",
              "      <td>&lt;48&gt;</td>\n",
              "      <td>nomor</td>\n",
              "      <td>/</td>\n",
              "      <td>B_VERN</td>\n",
              "    </tr>\n",
              "    <tr>\n",
              "      <th>3</th>\n",
              "      <td>doc:0</td>\n",
              "      <td>sentence: 000001</td>\n",
              "      <td>/</td>\n",
              "      <td>48</td>\n",
              "      <td>pid</td>\n",
              "      <td>I_VERN</td>\n",
              "    </tr>\n",
              "    <tr>\n",
              "      <th>4</th>\n",
              "      <td>doc:0</td>\n",
              "      <td>sentence: 000001</td>\n",
              "      <td>pid</td>\n",
              "      <td>/</td>\n",
              "      <td>.</td>\n",
              "      <td>I_VERN</td>\n",
              "    </tr>\n",
              "    <tr>\n",
              "      <th>...</th>\n",
              "      <td>...</td>\n",
              "      <td>...</td>\n",
              "      <td>...</td>\n",
              "      <td>...</td>\n",
              "      <td>...</td>\n",
              "      <td>...</td>\n",
              "    </tr>\n",
              "    <tr>\n",
              "      <th>1257467</th>\n",
              "      <td>doc:601</td>\n",
              "      <td>sentence: 078262</td>\n",
              "      <td>panitera</td>\n",
              "      <td>.</td>\n",
              "      <td>pengganti</td>\n",
              "      <td>O</td>\n",
              "    </tr>\n",
              "    <tr>\n",
              "      <th>1257468</th>\n",
              "      <td>doc:601</td>\n",
              "      <td>sentence: 078262</td>\n",
              "      <td>pengganti</td>\n",
              "      <td>panitera</td>\n",
              "      <td>,</td>\n",
              "      <td>O</td>\n",
              "    </tr>\n",
              "    <tr>\n",
              "      <th>1257469</th>\n",
              "      <td>doc:601</td>\n",
              "      <td>sentence: 078262</td>\n",
              "      <td>,</td>\n",
              "      <td>pengganti</td>\n",
              "      <td>ttd</td>\n",
              "      <td>O</td>\n",
              "    </tr>\n",
              "    <tr>\n",
              "      <th>1257470</th>\n",
              "      <td>doc:601</td>\n",
              "      <td>sentence: 078262</td>\n",
              "      <td>ttd</td>\n",
              "      <td>,</td>\n",
              "      <td>suraji</td>\n",
              "      <td>O</td>\n",
              "    </tr>\n",
              "    <tr>\n",
              "      <th>1257471</th>\n",
              "      <td>doc:601</td>\n",
              "      <td>sentence: 078262</td>\n",
              "      <td>suraji</td>\n",
              "      <td>ttd</td>\n",
              "      <td>.</td>\n",
              "      <td>B_REGI</td>\n",
              "    </tr>\n",
              "  </tbody>\n",
              "</table>\n",
              "<p>1257472 rows × 6 columns</p>\n",
              "</div>"
            ],
            "text/plain": [
              "             doc          sentence       word       prev       next     tag\n",
              "0          doc:0  sentence: 000001    putusan          .      nomor       O\n",
              "1          doc:0  sentence: 000001      nomor    putusan         48       O\n",
              "2          doc:0  sentence: 000001       <48>      nomor          /  B_VERN\n",
              "3          doc:0  sentence: 000001          /         48        pid  I_VERN\n",
              "4          doc:0  sentence: 000001        pid          /          .  I_VERN\n",
              "...          ...               ...        ...        ...        ...     ...\n",
              "1257467  doc:601  sentence: 078262   panitera          .  pengganti       O\n",
              "1257468  doc:601  sentence: 078262  pengganti   panitera          ,       O\n",
              "1257469  doc:601  sentence: 078262          ,  pengganti        ttd       O\n",
              "1257470  doc:601  sentence: 078262        ttd          ,     suraji       O\n",
              "1257471  doc:601  sentence: 078262     suraji        ttd          .  B_REGI\n",
              "\n",
              "[1257472 rows x 6 columns]"
            ]
          },
          "execution_count": 7,
          "metadata": {},
          "output_type": "execute_result"
        }
      ],
      "source": [
        "data['tag'] = data['tag'].apply(lambda x: [x])\n",
        "# Gabungkan tags dalam sentence yang sama dan hapus sentence yang hanya berisi tag 'O'\n",
        "df_combined = (\n",
        "    data.groupby(['doc', 'sentence'])['tag']\n",
        "    .agg(lambda x: sum(x, []))\n",
        "    .apply(lambda tags: tags if any(tag != 'O' for tag in tags) else [])\n",
        "    .reset_index(name='tag')\n",
        ")\n",
        "\n",
        "# Hapus baris yang tidak memiliki tag atau memiliki tag kosong\n",
        "df_combined = df_combined[df_combined['tag'].apply(lambda x: bool(x))]\n",
        "\n",
        "# Buat DataFrame baru hanya berisi baris yang sesuai dengan df_combined\n",
        "filtered_df = data[data['sentence'].isin(df_combined['sentence'])]\n",
        "\n",
        "# Pisahkan df_combined per tag dan isi sentence berdasarkan tag yang dipisah tadi\n",
        "result_rows = []\n",
        "for index, row in filtered_df.iterrows():\n",
        "    for tag in row['tag']:\n",
        "        result_rows.append({\n",
        "            'doc': row['doc'],\n",
        "            'sentence': row['sentence'],\n",
        "            'word': row['word'],\n",
        "            'prev': row['prev'],\n",
        "            'next': row['next'],\n",
        "            'tag': tag\n",
        "        })\n",
        "\n",
        "# Tampilkan dataframe setelah penggabungan, penghapusan, pemisahan kembali tags, dan pengisian kolom 'sentence'\n",
        "data = pd.DataFrame(result_rows)\n",
        "\n",
        "# Tampilkan dataframe hasil\n",
        "data"
      ]
    },
    {
      "cell_type": "code",
      "execution_count": 8,
      "metadata": {
        "colab": {
          "base_uri": "https://localhost:8080/",
          "height": 802
        },
        "execution": {
          "iopub.execute_input": "2024-06-28T12:13:13.972141Z",
          "iopub.status.busy": "2024-06-28T12:13:13.971794Z",
          "iopub.status.idle": "2024-06-28T12:13:14.739247Z",
          "shell.execute_reply": "2024-06-28T12:13:14.738226Z",
          "shell.execute_reply.started": "2024-06-28T12:13:13.972114Z"
        },
        "id": "A1BuqTbxjneR",
        "outputId": "945c118c-dce8-4523-aff8-83f5f5363ea2",
        "trusted": true
      },
      "outputs": [
        {
          "data": {
            "text/html": [
              "<div>\n",
              "<style scoped>\n",
              "    .dataframe tbody tr th:only-of-type {\n",
              "        vertical-align: middle;\n",
              "    }\n",
              "\n",
              "    .dataframe tbody tr th {\n",
              "        vertical-align: top;\n",
              "    }\n",
              "\n",
              "    .dataframe thead th {\n",
              "        text-align: right;\n",
              "    }\n",
              "</style>\n",
              "<table border=\"1\" class=\"dataframe\">\n",
              "  <thead>\n",
              "    <tr style=\"text-align: right;\">\n",
              "      <th></th>\n",
              "      <th>doc</th>\n",
              "      <th>sentence</th>\n",
              "      <th>word</th>\n",
              "      <th>prev</th>\n",
              "      <th>next</th>\n",
              "    </tr>\n",
              "    <tr>\n",
              "      <th>tag</th>\n",
              "      <th></th>\n",
              "      <th></th>\n",
              "      <th></th>\n",
              "      <th></th>\n",
              "      <th></th>\n",
              "    </tr>\n",
              "  </thead>\n",
              "  <tbody>\n",
              "    <tr>\n",
              "      <th>B_ARTV</th>\n",
              "      <td>1509</td>\n",
              "      <td>1509</td>\n",
              "      <td>1509</td>\n",
              "      <td>1509</td>\n",
              "      <td>1509</td>\n",
              "    </tr>\n",
              "    <tr>\n",
              "      <th>B_CRIA</th>\n",
              "      <td>2625</td>\n",
              "      <td>2625</td>\n",
              "      <td>2625</td>\n",
              "      <td>2625</td>\n",
              "      <td>2625</td>\n",
              "    </tr>\n",
              "    <tr>\n",
              "      <th>B_DEFN</th>\n",
              "      <td>10914</td>\n",
              "      <td>10914</td>\n",
              "      <td>10914</td>\n",
              "      <td>10914</td>\n",
              "      <td>10914</td>\n",
              "    </tr>\n",
              "    <tr>\n",
              "      <th>B_JUDP</th>\n",
              "      <td>1195</td>\n",
              "      <td>1195</td>\n",
              "      <td>1195</td>\n",
              "      <td>1195</td>\n",
              "      <td>1195</td>\n",
              "    </tr>\n",
              "    <tr>\n",
              "      <th>B_JUG</th>\n",
              "      <td>2243</td>\n",
              "      <td>2243</td>\n",
              "      <td>2243</td>\n",
              "      <td>2243</td>\n",
              "      <td>2243</td>\n",
              "    </tr>\n",
              "    <tr>\n",
              "      <th>B_PENA</th>\n",
              "      <td>603</td>\n",
              "      <td>603</td>\n",
              "      <td>603</td>\n",
              "      <td>603</td>\n",
              "      <td>603</td>\n",
              "    </tr>\n",
              "    <tr>\n",
              "      <th>B_PROS</th>\n",
              "      <td>549</td>\n",
              "      <td>549</td>\n",
              "      <td>549</td>\n",
              "      <td>549</td>\n",
              "      <td>549</td>\n",
              "    </tr>\n",
              "    <tr>\n",
              "      <th>B_PUNI</th>\n",
              "      <td>755</td>\n",
              "      <td>755</td>\n",
              "      <td>755</td>\n",
              "      <td>755</td>\n",
              "      <td>755</td>\n",
              "    </tr>\n",
              "    <tr>\n",
              "      <th>B_REGI</th>\n",
              "      <td>1138</td>\n",
              "      <td>1138</td>\n",
              "      <td>1138</td>\n",
              "      <td>1138</td>\n",
              "      <td>1138</td>\n",
              "    </tr>\n",
              "    <tr>\n",
              "      <th>B_TIMV</th>\n",
              "      <td>638</td>\n",
              "      <td>638</td>\n",
              "      <td>638</td>\n",
              "      <td>638</td>\n",
              "      <td>638</td>\n",
              "    </tr>\n",
              "    <tr>\n",
              "      <th>B_VERN</th>\n",
              "      <td>1846</td>\n",
              "      <td>1846</td>\n",
              "      <td>1846</td>\n",
              "      <td>1846</td>\n",
              "      <td>1846</td>\n",
              "    </tr>\n",
              "    <tr>\n",
              "      <th>I_ARTV</th>\n",
              "      <td>14784</td>\n",
              "      <td>14784</td>\n",
              "      <td>14784</td>\n",
              "      <td>14784</td>\n",
              "      <td>14784</td>\n",
              "    </tr>\n",
              "    <tr>\n",
              "      <th>I_CRIA</th>\n",
              "      <td>3592</td>\n",
              "      <td>3592</td>\n",
              "      <td>3592</td>\n",
              "      <td>3592</td>\n",
              "      <td>3592</td>\n",
              "    </tr>\n",
              "    <tr>\n",
              "      <th>I_DEFN</th>\n",
              "      <td>28295</td>\n",
              "      <td>28295</td>\n",
              "      <td>28295</td>\n",
              "      <td>28295</td>\n",
              "      <td>28295</td>\n",
              "    </tr>\n",
              "    <tr>\n",
              "      <th>I_JUDP</th>\n",
              "      <td>1382</td>\n",
              "      <td>1382</td>\n",
              "      <td>1382</td>\n",
              "      <td>1382</td>\n",
              "      <td>1382</td>\n",
              "    </tr>\n",
              "    <tr>\n",
              "      <th>I_JUG</th>\n",
              "      <td>3408</td>\n",
              "      <td>3408</td>\n",
              "      <td>3408</td>\n",
              "      <td>3408</td>\n",
              "      <td>3408</td>\n",
              "    </tr>\n",
              "    <tr>\n",
              "      <th>I_PENA</th>\n",
              "      <td>3758</td>\n",
              "      <td>3758</td>\n",
              "      <td>3758</td>\n",
              "      <td>3758</td>\n",
              "      <td>3758</td>\n",
              "    </tr>\n",
              "    <tr>\n",
              "      <th>I_PROS</th>\n",
              "      <td>895</td>\n",
              "      <td>895</td>\n",
              "      <td>895</td>\n",
              "      <td>895</td>\n",
              "      <td>895</td>\n",
              "    </tr>\n",
              "    <tr>\n",
              "      <th>I_PUNI</th>\n",
              "      <td>4279</td>\n",
              "      <td>4279</td>\n",
              "      <td>4279</td>\n",
              "      <td>4279</td>\n",
              "      <td>4279</td>\n",
              "    </tr>\n",
              "    <tr>\n",
              "      <th>I_REGI</th>\n",
              "      <td>1494</td>\n",
              "      <td>1494</td>\n",
              "      <td>1494</td>\n",
              "      <td>1494</td>\n",
              "      <td>1494</td>\n",
              "    </tr>\n",
              "    <tr>\n",
              "      <th>I_TIMV</th>\n",
              "      <td>1434</td>\n",
              "      <td>1434</td>\n",
              "      <td>1434</td>\n",
              "      <td>1434</td>\n",
              "      <td>1434</td>\n",
              "    </tr>\n",
              "    <tr>\n",
              "      <th>I_VERN</th>\n",
              "      <td>16703</td>\n",
              "      <td>16703</td>\n",
              "      <td>16703</td>\n",
              "      <td>16703</td>\n",
              "      <td>16703</td>\n",
              "    </tr>\n",
              "    <tr>\n",
              "      <th>O</th>\n",
              "      <td>1153433</td>\n",
              "      <td>1153433</td>\n",
              "      <td>1153433</td>\n",
              "      <td>1153433</td>\n",
              "      <td>1153433</td>\n",
              "    </tr>\n",
              "  </tbody>\n",
              "</table>\n",
              "</div>"
            ],
            "text/plain": [
              "            doc  sentence     word     prev     next\n",
              "tag                                                 \n",
              "B_ARTV     1509      1509     1509     1509     1509\n",
              "B_CRIA     2625      2625     2625     2625     2625\n",
              "B_DEFN    10914     10914    10914    10914    10914\n",
              "B_JUDP     1195      1195     1195     1195     1195\n",
              "B_JUG      2243      2243     2243     2243     2243\n",
              "B_PENA      603       603      603      603      603\n",
              "B_PROS      549       549      549      549      549\n",
              "B_PUNI      755       755      755      755      755\n",
              "B_REGI     1138      1138     1138     1138     1138\n",
              "B_TIMV      638       638      638      638      638\n",
              "B_VERN     1846      1846     1846     1846     1846\n",
              "I_ARTV    14784     14784    14784    14784    14784\n",
              "I_CRIA     3592      3592     3592     3592     3592\n",
              "I_DEFN    28295     28295    28295    28295    28295\n",
              "I_JUDP     1382      1382     1382     1382     1382\n",
              "I_JUG      3408      3408     3408     3408     3408\n",
              "I_PENA     3758      3758     3758     3758     3758\n",
              "I_PROS      895       895      895      895      895\n",
              "I_PUNI     4279      4279     4279     4279     4279\n",
              "I_REGI     1494      1494     1494     1494     1494\n",
              "I_TIMV     1434      1434     1434     1434     1434\n",
              "I_VERN    16703     16703    16703    16703    16703\n",
              "O       1153433   1153433  1153433  1153433  1153433"
            ]
          },
          "execution_count": 8,
          "metadata": {},
          "output_type": "execute_result"
        }
      ],
      "source": [
        "data.groupby('tag').count()"
      ]
    },
    {
      "cell_type": "code",
      "execution_count": 9,
      "metadata": {
        "colab": {
          "base_uri": "https://localhost:8080/"
        },
        "execution": {
          "iopub.execute_input": "2024-06-28T12:13:14.740761Z",
          "iopub.status.busy": "2024-06-28T12:13:14.740485Z",
          "iopub.status.idle": "2024-06-28T12:13:14.830901Z",
          "shell.execute_reply": "2024-06-28T12:13:14.829743Z",
          "shell.execute_reply.started": "2024-06-28T12:13:14.740738Z"
        },
        "id": "c7cpA_FvjneS",
        "outputId": "417742a0-87f1-4571-e595-be95e07bf4b8",
        "trusted": true
      },
      "outputs": [
        {
          "data": {
            "text/plain": [
              "23157"
            ]
          },
          "execution_count": 9,
          "metadata": {},
          "output_type": "execute_result"
        }
      ],
      "source": [
        "words = list(set(data[\"word\"].values))\n",
        "words.append(\"ENDPAD\")\n",
        "n_words = len(words)\n",
        "n_words"
      ]
    },
    {
      "cell_type": "code",
      "execution_count": 10,
      "metadata": {
        "colab": {
          "base_uri": "https://localhost:8080/"
        },
        "execution": {
          "iopub.execute_input": "2024-06-28T12:13:14.836416Z",
          "iopub.status.busy": "2024-06-28T12:13:14.835966Z",
          "iopub.status.idle": "2024-06-28T12:13:14.886346Z",
          "shell.execute_reply": "2024-06-28T12:13:14.885146Z",
          "shell.execute_reply.started": "2024-06-28T12:13:14.836387Z"
        },
        "id": "3ivL1YwTjneS",
        "outputId": "76d328cb-8d47-4fb3-9f3a-046eb5af2f95",
        "trusted": true
      },
      "outputs": [
        {
          "data": {
            "text/plain": [
              "23"
            ]
          },
          "execution_count": 10,
          "metadata": {},
          "output_type": "execute_result"
        }
      ],
      "source": [
        "tags = sorted(list(set(data[\"tag\"])))\n",
        "n_tags = len(tags)\n",
        "n_tags"
      ]
    },
    {
      "cell_type": "markdown",
      "metadata": {
        "id": "CcCY22U-jneX"
      },
      "source": [
        "### Mengelompokan Dataset per Sentence"
      ]
    },
    {
      "cell_type": "code",
      "execution_count": 11,
      "metadata": {
        "execution": {
          "iopub.execute_input": "2024-06-28T12:13:14.888192Z",
          "iopub.status.busy": "2024-06-28T12:13:14.887811Z",
          "iopub.status.idle": "2024-06-28T12:13:14.896993Z",
          "shell.execute_reply": "2024-06-28T12:13:14.896016Z",
          "shell.execute_reply.started": "2024-06-28T12:13:14.888157Z"
        },
        "id": "7acIBMgmjneY",
        "trusted": true
      },
      "outputs": [],
      "source": [
        "class SentenceGetter(object):\n",
        "\n",
        "    def __init__(self, data):\n",
        "        self.n_sent = 1\n",
        "        self.data = data\n",
        "        self.empty = False\n",
        "        agg_func = lambda s: [(w, t) for w, t in zip(s[\"word\"].values.tolist(),\n",
        "                                                           s[\"tag\"].values.tolist())]\n",
        "        self.grouped = self.data.groupby(\"sentence\").apply(agg_func)\n",
        "        self.sentences = [s for s in self.grouped]\n",
        "\n",
        "    def get_next(self):\n",
        "        try:\n",
        "            s = self.grouped[self.n_sent]\n",
        "            self.n_sent += 1\n",
        "            return s\n",
        "        except:\n",
        "            return None"
      ]
    },
    {
      "cell_type": "code",
      "execution_count": 12,
      "metadata": {
        "execution": {
          "iopub.execute_input": "2024-06-28T12:13:14.899323Z",
          "iopub.status.busy": "2024-06-28T12:13:14.898630Z",
          "iopub.status.idle": "2024-06-28T12:13:16.586331Z",
          "shell.execute_reply": "2024-06-28T12:13:16.585271Z",
          "shell.execute_reply.started": "2024-06-28T12:13:14.899248Z"
        },
        "id": "eDcfx_rkjneY",
        "trusted": true
      },
      "outputs": [],
      "source": [
        "getter = SentenceGetter(data)\n",
        "sentences = getter.sentences"
      ]
    },
    {
      "cell_type": "markdown",
      "metadata": {
        "id": "cpBVf7xvjneY"
      },
      "source": [
        "## Word Embedding CBOW"
      ]
    },
    {
      "cell_type": "code",
      "execution_count": 13,
      "metadata": {
        "execution": {
          "iopub.execute_input": "2024-06-28T12:13:17.075963Z",
          "iopub.status.busy": "2024-06-28T12:13:17.075658Z",
          "iopub.status.idle": "2024-06-28T12:13:33.542199Z",
          "shell.execute_reply": "2024-06-28T12:13:33.541411Z",
          "shell.execute_reply.started": "2024-06-28T12:13:17.075936Z"
        },
        "id": "WXSSkRlGjneY",
        "trusted": true
      },
      "outputs": [],
      "source": [
        "from gensim.models import Word2Vec"
      ]
    },
    {
      "cell_type": "code",
      "execution_count": 14,
      "metadata": {
        "execution": {
          "iopub.execute_input": "2024-06-28T12:13:33.543592Z",
          "iopub.status.busy": "2024-06-28T12:13:33.543315Z",
          "iopub.status.idle": "2024-06-28T12:13:38.436429Z",
          "shell.execute_reply": "2024-06-28T12:13:38.435315Z",
          "shell.execute_reply.started": "2024-06-28T12:13:33.543567Z"
        },
        "id": "5NLaxE86jneY",
        "trusted": true
      },
      "outputs": [],
      "source": [
        "# sentences_words = [[w[0] for w in s] for s in sentences]\n",
        "# cbow_model = Word2Vec(sentences_words, vector_size=10, window=5, min_count=1, sg=0, seed=42)\n",
        "# cbow_model.save(\"Model_CBOW\\CBOWModel.model\")"
      ]
    },
    {
      "cell_type": "markdown",
      "metadata": {
        "id": "tWAZpll7jneZ"
      },
      "source": [
        "Load Model CBOW"
      ]
    },
    {
      "cell_type": "code",
      "execution_count": 15,
      "metadata": {
        "colab": {
          "base_uri": "https://localhost:8080/"
        },
        "execution": {
          "iopub.execute_input": "2024-06-28T12:13:38.438174Z",
          "iopub.status.busy": "2024-06-28T12:13:38.437770Z",
          "iopub.status.idle": "2024-06-28T12:13:38.443066Z",
          "shell.execute_reply": "2024-06-28T12:13:38.442061Z",
          "shell.execute_reply.started": "2024-06-28T12:13:38.438138Z"
        },
        "id": "FDwIzr7TjneZ",
        "outputId": "b2e26025-4aa0-4f6f-948e-ec5eab328d0e",
        "trusted": true
      },
      "outputs": [],
      "source": [
        "cbow_model = Word2Vec.load(\"Model_CBOW\\CBOWModel.model\")"
      ]
    },
    {
      "cell_type": "code",
      "execution_count": 16,
      "metadata": {
        "execution": {
          "iopub.execute_input": "2024-06-28T12:13:38.444702Z",
          "iopub.status.busy": "2024-06-28T12:13:38.444358Z",
          "iopub.status.idle": "2024-06-28T12:13:38.450581Z",
          "shell.execute_reply": "2024-06-28T12:13:38.449642Z",
          "shell.execute_reply.started": "2024-06-28T12:13:38.444676Z"
        },
        "id": "3NxzyRlzjneZ",
        "trusted": true
      },
      "outputs": [],
      "source": [
        "tag2idx = {t: i for i, t in enumerate(tags)}\n",
        "\n",
        "idx2tag = {i: w for w, i in tag2idx.items()}"
      ]
    },
    {
      "cell_type": "code",
      "execution_count": 17,
      "metadata": {
        "execution": {
          "iopub.execute_input": "2024-06-28T12:13:38.460052Z",
          "iopub.status.busy": "2024-06-28T12:13:38.459709Z",
          "iopub.status.idle": "2024-06-28T12:13:38.466794Z",
          "shell.execute_reply": "2024-06-28T12:13:38.465847Z",
          "shell.execute_reply.started": "2024-06-28T12:13:38.460019Z"
        },
        "id": "PoG_hANtjneZ",
        "trusted": true
      },
      "outputs": [],
      "source": [
        "def get_word_embedding(word):\n",
        "    if word in cbow_model.wv:\n",
        "        return cbow_model.wv[word]\n",
        "    else:\n",
        "        return np.zeros(cbow_model.vector_size)"
      ]
    },
    {
      "cell_type": "code",
      "execution_count": 18,
      "metadata": {
        "execution": {
          "iopub.execute_input": "2024-06-28T12:13:38.468406Z",
          "iopub.status.busy": "2024-06-28T12:13:38.468066Z",
          "iopub.status.idle": "2024-06-28T12:13:44.146811Z",
          "shell.execute_reply": "2024-06-28T12:13:44.145802Z",
          "shell.execute_reply.started": "2024-06-28T12:13:38.468380Z"
        },
        "id": "Yvwxla7IjneZ",
        "trusted": true
      },
      "outputs": [],
      "source": [
        "from tensorflow.keras.utils import pad_sequences\n",
        "from keras.utils import to_categorical\n",
        "X = [[get_word_embedding(w[0]) for w in s] for s in sentences]\n",
        "X = pad_sequences(maxlen=MAX_LEN, sequences=X, padding=\"post\", dtype='float32', value=np.zeros(cbow_model.vector_size))\n",
        "\n",
        "y = [[tag2idx[w[1]] for w in s] for s in sentences]\n",
        "y = pad_sequences(maxlen=MAX_LEN, sequences=y, padding=\"post\", value=tag2idx[\"O\"])\n",
        "y = [to_categorical(i, num_classes=n_tags+1) for i in y]"
      ]
    },
    {
      "cell_type": "markdown",
      "metadata": {
        "id": "3zYq_M-TjneZ"
      },
      "source": [
        "## Spliting Data"
      ]
    },
    {
      "cell_type": "code",
      "execution_count": 19,
      "metadata": {
        "colab": {
          "base_uri": "https://localhost:8080/"
        },
        "execution": {
          "iopub.execute_input": "2024-06-28T12:13:44.153936Z",
          "iopub.status.busy": "2024-06-28T12:13:44.153634Z",
          "iopub.status.idle": "2024-06-28T12:13:44.472507Z",
          "shell.execute_reply": "2024-06-28T12:13:44.471465Z",
          "shell.execute_reply.started": "2024-06-28T12:13:44.153911Z"
        },
        "id": "7eq-hoJjjneZ",
        "outputId": "cfe6ca43-3e1e-4a0f-e5be-6cf352dc7105",
        "trusted": true
      },
      "outputs": [
        {
          "data": {
            "text/plain": [
              "((9133, 200, 10), (2284, 200, 10), (9133, 200, 24), (2284, 200, 24))"
            ]
          },
          "execution_count": 19,
          "metadata": {},
          "output_type": "execute_result"
        }
      ],
      "source": [
        "from sklearn.model_selection import train_test_split\n",
        "X_tr, X_te, y_tr, y_te = train_test_split(X, y, test_size=0.2, shuffle=False,random_state=42)\n",
        "X_tr.shape, X_te.shape, np.array(y_tr).shape, np.array(y_te).shape"
      ]
    },
    {
      "cell_type": "markdown",
      "metadata": {
        "id": "8eYiGcP_jnea"
      },
      "source": [
        "## Modeling"
      ]
    },
    {
      "cell_type": "markdown",
      "metadata": {
        "id": "7EE8hN1Tjnea"
      },
      "source": [
        "## Skenario I (SGD)"
      ]
    },
    {
      "cell_type": "code",
      "execution_count": 20,
      "metadata": {
        "execution": {
          "iopub.execute_input": "2024-06-28T12:13:44.481796Z",
          "iopub.status.busy": "2024-06-28T12:13:44.481510Z",
          "iopub.status.idle": "2024-06-28T12:13:45.817745Z",
          "shell.execute_reply": "2024-06-28T12:13:45.816801Z",
          "shell.execute_reply.started": "2024-06-28T12:13:44.481772Z"
        },
        "id": "1URum1JWjnea",
        "trusted": true
      },
      "outputs": [],
      "source": [
        "# from keras import Model\n",
        "# from keras import optimizers\n",
        "# from keras.layers import Input, LSTM, Embedding, Dense, TimeDistributed, Dropout, Bidirectional, SpatialDropout1D, Reshape\n",
        "# from keras.initializers import glorot_uniform\n",
        "# from keras.utils import plot_model\n",
        "\n",
        "# input = Input(shape=(MAX_LEN, cbow_model.vector_size))\n",
        "\n",
        "# modelSGD = Dropout(0.1)(input)\n",
        "# modelSGD = Bidirectional(LSTM(units=100, return_sequences=True, recurrent_dropout=0.1))(modelSGD)\n",
        "\n",
        "# out = TimeDistributed(Dense(n_tags+1, activation=\"softmax\"))(modelSGD)  # softmax output layer\n",
        "\n",
        "# modelSGD = Model(input, out)\n",
        "\n",
        "# modelSGD.compile(\"sgd\", loss=\"categorical_crossentropy\", metrics=[\"accuracy\"])\n",
        "\n",
        "# modelSGD.summary()"
      ]
    },
    {
      "cell_type": "markdown",
      "metadata": {
        "id": "Q5A6rJQCjnea"
      },
      "source": [
        "## Visualisasi Model"
      ]
    },
    {
      "cell_type": "code",
      "execution_count": 21,
      "metadata": {
        "execution": {
          "iopub.execute_input": "2024-06-28T12:13:45.819222Z",
          "iopub.status.busy": "2024-06-28T12:13:45.818938Z",
          "iopub.status.idle": "2024-06-28T12:14:19.820319Z",
          "shell.execute_reply": "2024-06-28T12:14:19.819171Z",
          "shell.execute_reply.started": "2024-06-28T12:13:45.819197Z"
        },
        "id": "FjSPMkUwjneb",
        "trusted": true
      },
      "outputs": [],
      "source": [
        "# ! pip install pydot graphviz"
      ]
    },
    {
      "cell_type": "code",
      "execution_count": 22,
      "metadata": {
        "execution": {
          "iopub.execute_input": "2024-06-28T12:14:19.822396Z",
          "iopub.status.busy": "2024-06-28T12:14:19.822025Z",
          "iopub.status.idle": "2024-06-28T12:14:20.110146Z",
          "shell.execute_reply": "2024-06-28T12:14:20.109133Z",
          "shell.execute_reply.started": "2024-06-28T12:14:19.822362Z"
        },
        "id": "cWSiBfKDjneb",
        "trusted": true
      },
      "outputs": [],
      "source": [
        "# from keras.utils import plot_model\n",
        "\n",
        "# plot_model(modelSGD, to_file='model_visualizationSGD.png', show_shapes=True, show_layer_names=True)\n",
        "\n",
        "# from IPython.display import Image\n",
        "\n",
        "# image_path = 'model_visualizationSGD.png'\n",
        "# display(Image(filename=image_path))\n",
        "# with open(image_path, 'rb') as img_file:\n",
        "#     img_data = img_file.read()"
      ]
    },
    {
      "cell_type": "markdown",
      "metadata": {
        "id": "TTlrb-Qojneb"
      },
      "source": [
        "### Training Model Bi-LSTM (SGD)"
      ]
    },
    {
      "cell_type": "code",
      "execution_count": 23,
      "metadata": {
        "execution": {
          "iopub.execute_input": "2024-06-28T12:14:20.120355Z",
          "iopub.status.busy": "2024-06-28T12:14:20.119899Z",
          "iopub.status.idle": "2024-06-28T13:06:04.315195Z",
          "shell.execute_reply": "2024-06-28T13:06:04.314216Z",
          "shell.execute_reply.started": "2024-06-28T12:14:20.120315Z"
        },
        "id": "hcXpja31jneb",
        "trusted": true
      },
      "outputs": [],
      "source": [
        "# from tensorflow.keras.callbacks import EarlyStopping, ModelCheckpoint, Callback\n",
        "# import time\n",
        "\n",
        "# class WeightsLogger(Callback):\n",
        "#     def __init__(self):\n",
        "#         super(WeightsLogger, self).__init__()\n",
        "#         self.logs = []  # List to store weights and epochs\n",
        "\n",
        "#     def on_epoch_end(self, epoch, logs=None):\n",
        "#         weights = self.model.get_weights()\n",
        "#         self.logs.append({\n",
        "#             'epoch': epoch + 1,\n",
        "#             'weights': weights\n",
        "#         })\n",
        "\n",
        "#     def on_train_end(self, logs=None):\n",
        "#         # Save weights logs to CSV file\n",
        "#         df = pd.DataFrame(self.logs)\n",
        "#         df.to_csv('Hasil Training\\ModelSGD\\Bobot.csv', index=False)\n",
        "\n",
        "# class MetricsLogger(Callback):\n",
        "#     def __init__(self):\n",
        "#         super(MetricsLogger, self).__init__()\n",
        "#         self.logs = []\n",
        "\n",
        "#     def on_epoch_begin(self, epoch, logs=None):\n",
        "#         self.epoch_start_time = time.time()\n",
        "\n",
        "#     def on_epoch_end(self, epoch, logs=None):\n",
        "#         elapsed_time = time.time() - self.epoch_start_time\n",
        "#         elapsed_time_rounded = round(elapsed_time)  # Round to nearest second\n",
        "#         log_entry = {\n",
        "#             'epoch': epoch + 1,\n",
        "#             'accuracy': logs.get('accuracy'),\n",
        "#             'val_accuracy': logs.get('val_accuracy'),\n",
        "#             'loss': logs.get('loss'),\n",
        "#             'val_loss': logs.get('val_loss'),\n",
        "#             'time': elapsed_time_rounded\n",
        "#         }\n",
        "#         self.logs.append(log_entry)\n",
        "\n",
        "#     def on_train_end(self, logs=None):\n",
        "#         df = pd.DataFrame(self.logs)\n",
        "#         df = df[['epoch', 'accuracy', 'val_accuracy', 'loss', 'val_loss', 'time']]\n",
        "#         df.to_csv('Hasil Training/training_metricsSGD.csv', index=False)\n",
        "\n",
        "# checkpoint = ModelCheckpoint(\n",
        "#     filepath='Hasil Training\\ModelSGD\\modelSGD_epoch_{epoch:02d}.keras',  # Filepath to save model, including epoch number\n",
        "#     save_weights_only=False,                # Save the whole model, not just weights\n",
        "#     save_freq='epoch',                      # Save the model at the end of every epoch\n",
        "#     save_best_only=False                    # Save model every epoch, not just the best one\n",
        "# )\n",
        "# weights_logger = WeightsLogger()\n",
        "# metrics_logger = MetricsLogger()\n",
        "# historySGD = modelSGD.fit(np.array(X_tr).astype(int),\n",
        "#                     np.array(y_tr).astype(int),\n",
        "#                     batch_size=BATCH_SIZE,\n",
        "#                     epochs=50,\n",
        "#                     validation_split=0.1,\n",
        "#                     verbose=1,\n",
        "#                     shuffle=False,\n",
        "#                     callbacks=[weights_logger,metrics_logger,checkpoint])"
      ]
    },
    {
      "cell_type": "markdown",
      "metadata": {
        "id": "gMnF0IZNjnec"
      },
      "source": [
        "### Save Model"
      ]
    },
    {
      "cell_type": "code",
      "execution_count": 24,
      "metadata": {
        "execution": {
          "iopub.execute_input": "2024-06-28T13:06:04.316954Z",
          "iopub.status.busy": "2024-06-28T13:06:04.316662Z",
          "iopub.status.idle": "2024-06-28T13:06:04.367478Z",
          "shell.execute_reply": "2024-06-28T13:06:04.366532Z",
          "shell.execute_reply.started": "2024-06-28T13:06:04.316929Z"
        },
        "id": "tclKa4HSjnec",
        "trusted": true
      },
      "outputs": [],
      "source": [
        "# pathSGD = 'Hasil Training\\ModelSGD.keras'\n",
        "# modelSGD.save(pathSGD)\n",
        "# modelSGD.save_weights('Hasil Training\\modelSGD.weights.h5')"
      ]
    },
    {
      "cell_type": "markdown",
      "metadata": {
        "id": "9SrlpCrOjnec"
      },
      "source": [
        "### Load Model"
      ]
    },
    {
      "cell_type": "code",
      "execution_count": 25,
      "metadata": {
        "colab": {
          "base_uri": "https://localhost:8080/",
          "height": 669
        },
        "execution": {
          "iopub.execute_input": "2024-06-28T13:06:04.369241Z",
          "iopub.status.busy": "2024-06-28T13:06:04.368897Z",
          "iopub.status.idle": "2024-06-28T13:06:04.373894Z",
          "shell.execute_reply": "2024-06-28T13:06:04.372747Z",
          "shell.execute_reply.started": "2024-06-28T13:06:04.369211Z"
        },
        "id": "5AycKesdjnei",
        "outputId": "be67eb05-3b14-40cb-ada7-5515346e451a",
        "trusted": true
      },
      "outputs": [
        {
          "name": "stdout",
          "output_type": "stream",
          "text": [
            "WARNING:tensorflow:From c:\\Users\\HP\\AppData\\Local\\Programs\\Python\\Python311\\Lib\\site-packages\\keras\\src\\backend.py:1398: The name tf.executing_eagerly_outside_functions is deprecated. Please use tf.compat.v1.executing_eagerly_outside_functions instead.\n",
            "\n",
            "WARNING:tensorflow:From c:\\Users\\HP\\AppData\\Local\\Programs\\Python\\Python311\\Lib\\site-packages\\keras\\src\\optimizers\\__init__.py:309: The name tf.train.Optimizer is deprecated. Please use tf.compat.v1.train.Optimizer instead.\n",
            "\n"
          ]
        }
      ],
      "source": [
        "from tensorflow.keras.models import load_model\n",
        "save_pathSGD = 'Hasil Training\\ModelSGD.keras'\n",
        "modelSGD = load_model(save_pathSGD)\n",
        "modelSGD.load_weights('Hasil Training\\modelSGD.weights.h5')"
      ]
    },
    {
      "cell_type": "markdown",
      "metadata": {
        "id": "sDz46aryjnei"
      },
      "source": [
        "### Grafik Akurasi dan Loss"
      ]
    },
    {
      "cell_type": "code",
      "execution_count": 26,
      "metadata": {
        "execution": {
          "iopub.execute_input": "2024-06-28T13:06:04.375746Z",
          "iopub.status.busy": "2024-06-28T13:06:04.375431Z",
          "iopub.status.idle": "2024-06-28T13:06:04.923235Z",
          "shell.execute_reply": "2024-06-28T13:06:04.922352Z",
          "shell.execute_reply.started": "2024-06-28T13:06:04.375720Z"
        },
        "id": "3f9_Cd-Sjnei",
        "trusted": true
      },
      "outputs": [],
      "source": [
        "# acc = historySGD.history['accuracy']\n",
        "# val_acc = historySGD.history['val_accuracy']\n",
        "\n",
        "# loss = historySGD.history['loss']\n",
        "# val_loss = historySGD.history['val_loss']\n",
        "\n",
        "# plt.figure(figsize=(8, 8))\n",
        "# plt.subplot(2, 1, 1)\n",
        "# plt.plot(acc, label='Training Accuracy')\n",
        "# plt.plot(val_acc, label='Validation Accuracy')\n",
        "# plt.legend(loc='lower right')\n",
        "# plt.ylabel('Accuracy')\n",
        "# plt.ylim([min(plt.ylim()),1])\n",
        "# plt.title('Training and Validation Accuracy')\n",
        "\n",
        "# plt.subplot(2, 1, 2)\n",
        "# plt.plot(loss, label='Training Loss')\n",
        "# plt.plot(val_loss, label='Validation Loss')\n",
        "# plt.legend(loc='upper right')\n",
        "# plt.ylabel('Cross Entropy')\n",
        "# plt.ylim([0,1.0])\n",
        "# plt.title('Training and Validation Loss')\n",
        "# plt.xlabel('epoch')\n",
        "# plt.show()"
      ]
    },
    {
      "cell_type": "markdown",
      "metadata": {
        "id": "67uQEiW3jnej"
      },
      "source": [
        "## Skenario II (Adam)"
      ]
    },
    {
      "cell_type": "code",
      "execution_count": 27,
      "metadata": {
        "execution": {
          "iopub.execute_input": "2024-06-28T13:06:04.925581Z",
          "iopub.status.busy": "2024-06-28T13:06:04.924769Z",
          "iopub.status.idle": "2024-06-28T13:06:05.014487Z",
          "shell.execute_reply": "2024-06-28T13:06:05.013537Z",
          "shell.execute_reply.started": "2024-06-28T13:06:04.925543Z"
        },
        "id": "q2vvAW_jjnej",
        "trusted": true
      },
      "outputs": [],
      "source": [
        "# from keras import Model\n",
        "# from keras import optimizers\n",
        "# from keras.layers import Input, LSTM, Embedding, Dense, TimeDistributed, Dropout, Bidirectional, SpatialDropout1D, Reshape\n",
        "# from keras.initializers import glorot_uniform\n",
        "# from keras.utils import plot_model\n",
        "# SEED = 42\n",
        "\n",
        "# # input = Input(shape=(MAX_LEN,)) #Asli\n",
        "# input = Input(shape=(MAX_LEN, cbow_model.vector_size))\n",
        "\n",
        "# # model = Embedding(input_dim=n_words, output_dim=10, input_length=5)(input)\n",
        "# modelAdam = Dropout(0.1)(input)\n",
        "# modelAdam = Bidirectional(LSTM(units=100, return_sequences=True, recurrent_dropout=0.1))(modelAdam)\n",
        "\n",
        "# out = TimeDistributed(Dense(n_tags+1, activation=\"softmax\"))(modelAdam)  # softmax output layer\n",
        "\n",
        "# modelAdam = Model(input, out)\n",
        "\n",
        "# modelAdam.compile(optimizer=\"Adam\", loss=\"categorical_crossentropy\", metrics=[\"accuracy\"])\n",
        "\n",
        "# modelAdam.summary()"
      ]
    },
    {
      "cell_type": "code",
      "execution_count": 28,
      "metadata": {
        "execution": {
          "iopub.execute_input": "2024-06-28T13:06:05.015931Z",
          "iopub.status.busy": "2024-06-28T13:06:05.015616Z",
          "iopub.status.idle": "2024-06-28T13:06:05.142937Z",
          "shell.execute_reply": "2024-06-28T13:06:05.141794Z",
          "shell.execute_reply.started": "2024-06-28T13:06:05.015905Z"
        },
        "id": "qPlB2A0Fjnej",
        "trusted": true
      },
      "outputs": [],
      "source": [
        "# from keras.utils import plot_model\n",
        "\n",
        "# plot_model(modelAdam, to_file='model_visualizationAdam.png', show_shapes=True, show_layer_names=True)\n",
        "\n",
        "# from IPython.display import Image\n",
        "\n",
        "# image_path = 'model_visualizationAdam.png'\n",
        "# display(Image(filename=image_path))\n",
        "# with open(image_path, 'rb') as img_file:\n",
        "#     img_data = img_file.read()"
      ]
    },
    {
      "cell_type": "markdown",
      "metadata": {
        "id": "tRJFHuc7jnek"
      },
      "source": [
        "### Training Model Bi-LSTM (Adam)"
      ]
    },
    {
      "cell_type": "code",
      "execution_count": 29,
      "metadata": {
        "execution": {
          "iopub.execute_input": "2024-06-28T13:06:05.145297Z",
          "iopub.status.busy": "2024-06-28T13:06:05.144550Z",
          "iopub.status.idle": "2024-06-28T13:58:33.157224Z",
          "shell.execute_reply": "2024-06-28T13:58:33.156265Z",
          "shell.execute_reply.started": "2024-06-28T13:06:05.145240Z"
        },
        "id": "eA77job7jnek",
        "trusted": true
      },
      "outputs": [],
      "source": [
        "# from tensorflow.keras.callbacks import EarlyStopping, ModelCheckpoint, Callback\n",
        "\n",
        "# class WeightsLogger(Callback):\n",
        "#     def __init__(self):\n",
        "#         super(WeightsLogger, self).__init__()\n",
        "#         self.logs = []  # List to store weights and epochs\n",
        "\n",
        "#     def on_epoch_end(self, epoch, logs=None):\n",
        "#         weights = self.model.get_weights()\n",
        "#         self.logs.append({\n",
        "#             'epoch': epoch + 1,\n",
        "#             'weights': weights\n",
        "#         })\n",
        "\n",
        "#     def on_train_end(self, logs=None):\n",
        "#         # Save weights logs to CSV file\n",
        "#         df = pd.DataFrame(self.logs)\n",
        "#         df.to_csv('Hasil Training\\ModelAdam\\Bobot.csv', index=False)\n",
        "\n",
        "# class MetricsLogger(Callback):\n",
        "#     def __init__(self):\n",
        "#         super(MetricsLogger, self).__init__()\n",
        "#         self.logs = []\n",
        "\n",
        "#     def on_epoch_begin(self, epoch, logs=None):\n",
        "#         self.epoch_start_time = time.time()\n",
        "\n",
        "#     def on_epoch_end(self, epoch, logs=None):\n",
        "#         elapsed_time = time.time() - self.epoch_start_time\n",
        "#         elapsed_time_rounded = round(elapsed_time)  # Round to nearest second\n",
        "#         log_entry = {\n",
        "#             'epoch': epoch + 1,\n",
        "#             'accuracy': logs.get('accuracy'),\n",
        "#             'val_accuracy': logs.get('val_accuracy'),\n",
        "#             'loss': logs.get('loss'),\n",
        "#             'val_loss': logs.get('val_loss'),\n",
        "#             'time': elapsed_time_rounded\n",
        "#         }\n",
        "#         self.logs.append(log_entry)\n",
        "\n",
        "#     def on_train_end(self, logs=None):\n",
        "#         df = pd.DataFrame(self.logs)\n",
        "#         df = df[['epoch', 'accuracy', 'val_accuracy', 'loss', 'val_loss', 'time']]\n",
        "#         df.to_csv('Hasil Training/training_metricsAdam.csv', index=False)\n",
        "\n",
        "# checkpoint = ModelCheckpoint(\n",
        "#     filepath='Hasil Training\\ModelAdam\\modelAdam_epoch_{epoch:02d}.keras',  # Filepath to save model, including epoch number\n",
        "#     save_weights_only=False,                # Save the whole model, not just weights\n",
        "#     save_freq='epoch',                      # Save the model at the end of every epoch\n",
        "#     save_best_only=False                    # Save model every epoch, not just the best one\n",
        "# )\n",
        "# weights_logger = WeightsLogger()\n",
        "# metrics_logger = MetricsLogger()\n",
        "# historyAdam = modelAdam.fit(np.array(X_tr).astype(int),\n",
        "#                     np.array(y_tr).astype(int),\n",
        "#                     batch_size=BATCH_SIZE,\n",
        "#                     epochs=50,\n",
        "#                     validation_split=0.1,\n",
        "#                     verbose=1,\n",
        "#                     shuffle=False,\n",
        "#                     callbacks=[weights_logger,metrics_logger,checkpoint])"
      ]
    },
    {
      "cell_type": "markdown",
      "metadata": {
        "id": "iv4LTQPTjnel"
      },
      "source": [
        "### Save Model"
      ]
    },
    {
      "cell_type": "code",
      "execution_count": 30,
      "metadata": {
        "execution": {
          "iopub.execute_input": "2024-06-28T13:58:33.159586Z",
          "iopub.status.busy": "2024-06-28T13:58:33.159119Z",
          "iopub.status.idle": "2024-06-28T13:58:33.201538Z",
          "shell.execute_reply": "2024-06-28T13:58:33.200640Z",
          "shell.execute_reply.started": "2024-06-28T13:58:33.159547Z"
        },
        "id": "as-Vo3QHjnel",
        "trusted": true
      },
      "outputs": [],
      "source": [
        "# pathAdam = 'Hasil Training\\modelAdam.keras'\n",
        "# modelAdam.save(pathAdam)\n",
        "# modelAdam.save_weights('Hasil Training\\modelAdam.weights.h5')"
      ]
    },
    {
      "cell_type": "markdown",
      "metadata": {
        "id": "2g5kwrIAjnel"
      },
      "source": [
        "### Load Model"
      ]
    },
    {
      "cell_type": "code",
      "execution_count": 41,
      "metadata": {
        "execution": {
          "iopub.execute_input": "2024-06-28T13:58:33.202921Z",
          "iopub.status.busy": "2024-06-28T13:58:33.202642Z",
          "iopub.status.idle": "2024-06-28T13:58:33.207595Z",
          "shell.execute_reply": "2024-06-28T13:58:33.206326Z",
          "shell.execute_reply.started": "2024-06-28T13:58:33.202896Z"
        },
        "id": "9A2CF_ufjnel",
        "trusted": true
      },
      "outputs": [],
      "source": [
        "from tensorflow.keras.models import load_model\n",
        "save_pathAdam = 'Hasil Training\\modelAdam.keras'\n",
        "modelAdam = load_model(save_pathAdam)\n",
        "modelAdam.load_weights('Hasil Training\\modelAdam.weights.h5')"
      ]
    },
    {
      "cell_type": "markdown",
      "metadata": {
        "id": "b-TOWhhejnem"
      },
      "source": [
        "### Grafik Akurasi dan Loss"
      ]
    },
    {
      "cell_type": "code",
      "execution_count": 32,
      "metadata": {
        "execution": {
          "iopub.execute_input": "2024-06-28T13:58:33.209258Z",
          "iopub.status.busy": "2024-06-28T13:58:33.208944Z",
          "iopub.status.idle": "2024-06-28T13:58:33.703802Z",
          "shell.execute_reply": "2024-06-28T13:58:33.702839Z",
          "shell.execute_reply.started": "2024-06-28T13:58:33.209231Z"
        },
        "id": "V0tIqp6Ljnem",
        "trusted": true
      },
      "outputs": [],
      "source": [
        "# acc = historyAdam.history['accuracy']\n",
        "# val_acc = historyAdam.history['val_accuracy']\n",
        "\n",
        "# loss = historyAdam.history['loss']\n",
        "# val_loss = historyAdam.history['val_loss']\n",
        "\n",
        "# plt.figure(figsize=(8, 8))\n",
        "# plt.subplot(2, 1, 1)\n",
        "# plt.plot(acc, label='Training Accuracy')\n",
        "# plt.plot(val_acc, label='Validation Accuracy')\n",
        "# plt.legend(loc='lower right')\n",
        "# plt.ylabel('Accuracy')\n",
        "# plt.ylim([min(plt.ylim()),1])\n",
        "# plt.title('Training and Validation Accuracy')\n",
        "\n",
        "# plt.subplot(2, 1, 2)\n",
        "# plt.plot(loss, label='Training Loss')\n",
        "# plt.plot(val_loss, label='Validation Loss')\n",
        "# plt.legend(loc='upper right')\n",
        "# plt.ylabel('Cross Entropy')\n",
        "# plt.ylim([0,1.0])\n",
        "# plt.title('Training and Validation Loss')\n",
        "# plt.xlabel('epoch')\n",
        "# plt.show()"
      ]
    },
    {
      "cell_type": "markdown",
      "metadata": {
        "id": "RjuRTISQjnem"
      },
      "source": [
        "## Skenario III (Rmsprop)"
      ]
    },
    {
      "cell_type": "code",
      "execution_count": 33,
      "metadata": {
        "execution": {
          "iopub.execute_input": "2024-06-28T14:00:19.044087Z",
          "iopub.status.busy": "2024-06-28T14:00:19.043706Z",
          "iopub.status.idle": "2024-06-28T14:00:19.148332Z",
          "shell.execute_reply": "2024-06-28T14:00:19.147344Z",
          "shell.execute_reply.started": "2024-06-28T14:00:19.044050Z"
        },
        "id": "Jgb7lo7Ljnen",
        "trusted": true
      },
      "outputs": [],
      "source": [
        "# from keras import Model\n",
        "# from keras import optimizers\n",
        "# from keras.layers import Input, LSTM, Embedding, Dense, TimeDistributed, Dropout, Bidirectional, SpatialDropout1D, Reshape\n",
        "# from keras.initializers import glorot_uniform\n",
        "# from keras.utils import plot_model\n",
        "\n",
        "# input = Input(shape=(MAX_LEN, cbow_model.vector_size))\n",
        "\n",
        "# modelRmsprop = Dropout(0.1)(input)\n",
        "# modelRmsprop = Bidirectional(LSTM(units=100, return_sequences=True, recurrent_dropout=0.1))(modelRmsprop)\n",
        "\n",
        "# out = TimeDistributed(Dense(n_tags+1, activation=\"softmax\"))(modelRmsprop)  # softmax output layer\n",
        "\n",
        "# modelRmsprop = Model(input, out)\n",
        "\n",
        "# modelRmsprop.compile(optimizer=\"rmsprop\", loss=\"categorical_crossentropy\", metrics=[\"accuracy\"])\n",
        "\n",
        "# modelRmsprop.summary()"
      ]
    },
    {
      "cell_type": "code",
      "execution_count": 34,
      "metadata": {
        "execution": {
          "iopub.execute_input": "2024-06-28T14:00:20.397853Z",
          "iopub.status.busy": "2024-06-28T14:00:20.397433Z",
          "iopub.status.idle": "2024-06-28T14:00:20.530091Z",
          "shell.execute_reply": "2024-06-28T14:00:20.529044Z",
          "shell.execute_reply.started": "2024-06-28T14:00:20.397824Z"
        },
        "id": "eIZYvwZBjnen",
        "trusted": true
      },
      "outputs": [],
      "source": [
        "# from keras.utils import plot_model\n",
        "\n",
        "# plot_model(modelRmsprop, to_file='model_visualizationRmsprop.png', show_shapes=True, show_layer_names=True)\n",
        "\n",
        "# from IPython.display import Image\n",
        "\n",
        "# image_path = 'Visualisasi Model\\model_visualizationRmsprop.png'\n",
        "# display(Image(filename=image_path))\n",
        "# with open(image_path, 'rb') as img_file:\n",
        "#     img_data = img_file.read()"
      ]
    },
    {
      "cell_type": "markdown",
      "metadata": {
        "id": "g-wZnzuMjnen"
      },
      "source": [
        "### Training Model Bi-LSTM (Rmsprop)"
      ]
    },
    {
      "cell_type": "code",
      "execution_count": 35,
      "metadata": {
        "execution": {
          "iopub.execute_input": "2024-06-28T14:00:22.245370Z",
          "iopub.status.busy": "2024-06-28T14:00:22.244587Z",
          "iopub.status.idle": "2024-06-28T14:50:42.011635Z",
          "shell.execute_reply": "2024-06-28T14:50:42.010496Z",
          "shell.execute_reply.started": "2024-06-28T14:00:22.245323Z"
        },
        "id": "-CPS-DBsjnen",
        "trusted": true
      },
      "outputs": [],
      "source": [
        "# from tensorflow.keras.callbacks import EarlyStopping, ModelCheckpoint, Callback\n",
        "# import time\n",
        "\n",
        "# class WeightsLogger(Callback):\n",
        "#     def __init__(self):\n",
        "#         super(WeightsLogger, self).__init__()\n",
        "#         self.logs = []  # List to store weights and epochs\n",
        "\n",
        "#     def on_epoch_end(self, epoch, logs=None):\n",
        "#         weights = self.model.get_weights()\n",
        "#         self.logs.append({\n",
        "#             'epoch': epoch + 1,\n",
        "#             'weights': weights\n",
        "#         })\n",
        "\n",
        "#     def on_train_end(self, logs=None):\n",
        "#         # Save weights logs to CSV file\n",
        "#         df = pd.DataFrame(self.logs)\n",
        "#         df.to_csv('Hasil Training\\ModelRmsprop\\Bobot.csv', index=False)\n",
        "\n",
        "# class MetricsLogger(Callback):\n",
        "#     def __init__(self):\n",
        "#         super(MetricsLogger, self).__init__()\n",
        "#         self.logs = []\n",
        "\n",
        "#     def on_epoch_begin(self, epoch, logs=None):\n",
        "#         self.epoch_start_time = time.time()\n",
        "\n",
        "#     def on_epoch_end(self, epoch, logs=None):\n",
        "#         elapsed_time = time.time() - self.epoch_start_time\n",
        "#         elapsed_time_rounded = round(elapsed_time)  # Round to nearest second\n",
        "#         log_entry = {\n",
        "#             'epoch': epoch + 1,\n",
        "#             'accuracy': logs.get('accuracy'),\n",
        "#             'val_accuracy': logs.get('val_accuracy'),\n",
        "#             'loss': logs.get('loss'),\n",
        "#             'val_loss': logs.get('val_loss'),\n",
        "#             'time': elapsed_time_rounded\n",
        "#         }\n",
        "#         self.logs.append(log_entry)\n",
        "\n",
        "#     def on_train_end(self, logs=None):\n",
        "#         df = pd.DataFrame(self.logs)\n",
        "#         df = df[['epoch', 'accuracy', 'val_accuracy', 'loss', 'val_loss', 'time']]\n",
        "#         df.to_csv('Hasil Training/training_metricsRmsprop.csv', index=False)\n",
        "\n",
        "# checkpoint = ModelCheckpoint(\n",
        "#     filepath='Hasil Training\\ModelRmsprop\\modelRmsprop_epoch_{epoch:02d}.keras',  # Filepath to save model, including epoch number\n",
        "#     save_weights_only=False,                # Save the whole model, not just weights\n",
        "#     save_freq='epoch',                      # Save the model at the end of every epoch\n",
        "#     save_best_only=False                    # Save model every epoch, not just the best one\n",
        "# )\n",
        "# Weights_Logger = WeightsLogger()\n",
        "# metrics_logger = MetricsLogger()\n",
        "\n",
        "# historyRmsprop = modelRmsprop.fit(np.array(X_tr).astype(int),\n",
        "#                     np.array(y_tr).astype(int),\n",
        "#                     batch_size=BATCH_SIZE,\n",
        "#                     epochs=50,\n",
        "#                     validation_split=0.1,\n",
        "#                     verbose=1,\n",
        "#                     shuffle=False,\n",
        "#                     callbacks=[Weights_Logger,metrics_logger,checkpoint])"
      ]
    },
    {
      "cell_type": "markdown",
      "metadata": {
        "id": "lx2i5AEDjneo"
      },
      "source": [
        "### Save Model"
      ]
    },
    {
      "cell_type": "code",
      "execution_count": 36,
      "metadata": {
        "execution": {
          "iopub.execute_input": "2024-06-28T14:55:19.772190Z",
          "iopub.status.busy": "2024-06-28T14:55:19.771184Z",
          "iopub.status.idle": "2024-06-28T14:55:19.809529Z",
          "shell.execute_reply": "2024-06-28T14:55:19.808654Z",
          "shell.execute_reply.started": "2024-06-28T14:55:19.772157Z"
        },
        "id": "qmbl7NO7jneo",
        "trusted": true
      },
      "outputs": [],
      "source": [
        "# pathRmsprop = 'Hasil Training\\modelRmsprop.keras'\n",
        "# modelRmsprop.save(pathRmsprop)\n",
        "# modelRmsprop.save_weights('Hasil Training\\modelRmsprop.weights.h5')"
      ]
    },
    {
      "cell_type": "markdown",
      "metadata": {
        "id": "O4IoLMKejneo"
      },
      "source": [
        "### Load Model"
      ]
    },
    {
      "cell_type": "code",
      "execution_count": 40,
      "metadata": {
        "execution": {
          "iopub.status.busy": "2024-06-28T13:58:34.118000Z",
          "iopub.status.idle": "2024-06-28T13:58:34.118524Z",
          "shell.execute_reply": "2024-06-28T13:58:34.118265Z",
          "shell.execute_reply.started": "2024-06-28T13:58:34.118243Z"
        },
        "id": "XMKwIpQGjneo",
        "trusted": true
      },
      "outputs": [],
      "source": [
        "from tensorflow.keras.models import load_model\n",
        "save_pathRmsprop = 'Hasil Training\\modelRmsprop.keras'\n",
        "modelRmsprop = load_model(save_pathRmsprop)\n",
        "modelRmsprop.load_weights('Hasil Training\\modelRmsprop.weights.h5')"
      ]
    },
    {
      "cell_type": "markdown",
      "metadata": {
        "id": "ni1ItUYQjneo"
      },
      "source": [
        "### Grafik Akurasi dan Loss"
      ]
    },
    {
      "cell_type": "code",
      "execution_count": 38,
      "metadata": {
        "execution": {
          "iopub.execute_input": "2024-06-28T14:55:26.717637Z",
          "iopub.status.busy": "2024-06-28T14:55:26.717295Z",
          "iopub.status.idle": "2024-06-28T14:55:27.276653Z",
          "shell.execute_reply": "2024-06-28T14:55:27.275511Z",
          "shell.execute_reply.started": "2024-06-28T14:55:26.717610Z"
        },
        "id": "03AjEyZRjnep",
        "trusted": true
      },
      "outputs": [],
      "source": [
        "# acc = historyRmsprop.history['accuracy']\n",
        "# val_acc = historyRmsprop.history['val_accuracy']\n",
        "\n",
        "# loss = historyRmsprop.history['loss']\n",
        "# val_loss = historyRmsprop.history['val_loss']\n",
        "\n",
        "# plt.figure(figsize=(8, 8))\n",
        "# plt.subplot(2, 1, 1)\n",
        "# plt.plot(acc, label='Training Accuracy')\n",
        "# plt.plot(val_acc, label='Validation Accuracy')\n",
        "# plt.legend(loc='lower right')\n",
        "# plt.ylabel('Accuracy')\n",
        "# plt.ylim([min(plt.ylim()),1])\n",
        "# plt.title('Training and Validation Accuracy')\n",
        "\n",
        "# plt.subplot(2, 1, 2)\n",
        "# plt.plot(loss, label='Training Loss')\n",
        "# plt.plot(val_loss, label='Validation Loss')\n",
        "# plt.legend(loc='upper right')\n",
        "# plt.ylabel('Cross Entropy')\n",
        "# plt.ylim([0,0.2])\n",
        "# plt.title('Training and Validation Loss')\n",
        "# plt.xlabel('epoch')\n",
        "# plt.show()"
      ]
    },
    {
      "cell_type": "markdown",
      "metadata": {
        "id": "O_AGtwAhjnep"
      },
      "source": [
        "## Evaluasi Model"
      ]
    },
    {
      "cell_type": "code",
      "execution_count": 42,
      "metadata": {
        "execution": {
          "iopub.execute_input": "2024-06-28T15:14:24.350969Z",
          "iopub.status.busy": "2024-06-28T15:14:24.350203Z",
          "iopub.status.idle": "2024-06-28T15:14:51.544151Z",
          "shell.execute_reply": "2024-06-28T15:14:51.543214Z",
          "shell.execute_reply.started": "2024-06-28T15:14:24.350931Z"
        },
        "id": "cIoWjGl0jnep",
        "trusted": true
      },
      "outputs": [
        {
          "name": "stdout",
          "output_type": "stream",
          "text": [
            "72/72 [==============================] - 7s 102ms/step\n",
            "72/72 [==============================] - 9s 109ms/step\n",
            "72/72 [==============================] - 8s 92ms/step\n"
          ]
        }
      ],
      "source": [
        "eveSGD = modelSGD.predict(X_te)\n",
        "eveAdam = modelAdam.predict(X_te)\n",
        "eveRmsprop = modelRmsprop.predict(X_te)"
      ]
    },
    {
      "cell_type": "code",
      "execution_count": 43,
      "metadata": {
        "execution": {
          "iopub.execute_input": "2024-06-28T15:35:19.682565Z",
          "iopub.status.busy": "2024-06-28T15:35:19.681786Z",
          "iopub.status.idle": "2024-06-28T15:35:19.691483Z",
          "shell.execute_reply": "2024-06-28T15:35:19.690455Z",
          "shell.execute_reply.started": "2024-06-28T15:35:19.682530Z"
        },
        "id": "rvZnJVoMjneq",
        "trusted": true
      },
      "outputs": [],
      "source": [
        "from sklearn.metrics import classification_report, precision_score, recall_score, f1_score\n",
        "\n",
        "def c_report(y_true, y_pred):\n",
        "    # Menggabungkan elemen-elemen array menjadi satu list\n",
        "    y_true_flat = [item for sublist in y_true for item in sublist]\n",
        "    y_pred_flat = [item for sublist in y_pred for item in sublist]\n",
        "\n",
        "    # Menghitung macro average precision, recall, dan F1-score\n",
        "    precision_macro = precision_score(y_true_flat, y_pred_flat, average=\"macro\")\n",
        "    recall_macro = recall_score(y_true_flat, y_pred_flat, average=\"macro\")\n",
        "    f1_macro = f1_score(y_true_flat, y_pred_flat, average=\"macro\")\n",
        "\n",
        "    # Mencetak metrik macro average\n",
        "    print(\"Hasil evaluasi seluruh tag:\")\n",
        "    print(\"Precision Score (Macro): {:.2f}\".format(precision_macro))\n",
        "    print(\"Recall Score (Macro)   : {:.2f}\".format(recall_macro))\n",
        "    print(\"F1-score Score (Macro) : {:.2f}\".format(f1_macro))\n",
        "\n",
        "    # Menghasilkan laporan klasifikasi\n",
        "    report = classification_report(y_true_flat, y_pred_flat)\n",
        "\n",
        "    # Mencetak laporan klasifikasi\n",
        "    print(\"\\nLaporan Klasifikasi Setiap Tag:\")\n",
        "    print(report)\n",
        "\n",
        "    return {\n",
        "        \"precision_macro\": precision_macro,\n",
        "        \"recall_macro\": recall_macro,\n",
        "        \"f1_macro\": f1_macro,\n",
        "        \"classification_report\": report\n",
        "    }"
      ]
    },
    {
      "cell_type": "code",
      "execution_count": 44,
      "metadata": {
        "execution": {
          "iopub.execute_input": "2024-06-28T15:45:24.303449Z",
          "iopub.status.busy": "2024-06-28T15:45:24.302531Z",
          "iopub.status.idle": "2024-06-28T15:45:24.313241Z",
          "shell.execute_reply": "2024-06-28T15:45:24.312221Z",
          "shell.execute_reply.started": "2024-06-28T15:45:24.303402Z"
        },
        "id": "EFc6fr1vjneq",
        "trusted": true
      },
      "outputs": [],
      "source": [
        "import pandas as pd\n",
        "import numpy as np\n",
        "import matplotlib.pyplot as plt\n",
        "from sklearn.metrics import classification_report\n",
        "\n",
        "# Fungsi untuk membuat classification report dan mengubahnya menjadi gambar tabel\n",
        "def Visualisasi_c_report(y_true, y_pred, filename='classification_reportSGD.png'):\n",
        "    # Menggabungkan elemen-elemen array menjadi satu list\n",
        "    y_true_flat = [item for sublist in y_true for item in sublist]\n",
        "    y_pred_flat = [item for sublist in y_pred for item in sublist]\n",
        "\n",
        "    # Menghitung classification report\n",
        "    report_dict = classification_report(y_true_flat, y_pred_flat, output_dict=True)\n",
        "    report_df = pd.DataFrame(report_dict).transpose()\n",
        "\n",
        "    # Membulatkan nilai-nilai dalam report_dfSGD menjadi dua angka desimal\n",
        "#     report_df = report_df.applymap(lambda x: round(x, 2))\n",
        "    report_df = report_df.round(2)\n",
        "\n",
        "    # Membuat gambar tabel\n",
        "    fig, ax = plt.subplots(figsize=(10, 6))  # Ukuran gambar dapat disesuaikan\n",
        "    ax.axis('tight')\n",
        "    ax.axis('off')\n",
        "    table = ax.table(cellText=report_df.values, colLabels=report_df.columns, rowLabels=report_df.index, cellLoc='center', loc='center')\n",
        "\n",
        "    # Mengatur gaya tabel\n",
        "    table.auto_set_font_size(False)\n",
        "    table.set_fontsize(12)\n",
        "    table.scale(1.2, 1.2)\n",
        "\n",
        "    # Menyimpan gambar tabel ke file\n",
        "    plt.savefig(filename, bbox_inches='tight', pad_inches=0.1)"
      ]
    },
    {
      "cell_type": "markdown",
      "metadata": {
        "id": "q0OlurLIjner"
      },
      "source": [
        "### Evaluasi SGD"
      ]
    },
    {
      "cell_type": "code",
      "execution_count": 45,
      "metadata": {
        "execution": {
          "iopub.execute_input": "2024-06-28T15:36:02.775088Z",
          "iopub.status.busy": "2024-06-28T15:36:02.774171Z",
          "iopub.status.idle": "2024-06-28T15:36:03.155795Z",
          "shell.execute_reply": "2024-06-28T15:36:03.154928Z",
          "shell.execute_reply.started": "2024-06-28T15:36:02.775049Z"
        },
        "id": "qI7tBqDFjner",
        "trusted": true
      },
      "outputs": [],
      "source": [
        "y_test_trueSGD = np.argmax(y_te, -1)\n",
        "y_predSGD = np.argmax(eveSGD, axis=-1)\n",
        "\n",
        "# Convert the index to tag\n",
        "y_test_trueSGD = [[idx2tag[i] for i in row] for row in y_test_trueSGD]\n",
        "y_predSGD = [[idx2tag[i] for i in row] for row in y_predSGD]"
      ]
    },
    {
      "cell_type": "markdown",
      "metadata": {
        "id": "fZLQGN4pjner"
      },
      "source": [
        "Classification Report"
      ]
    },
    {
      "cell_type": "code",
      "execution_count": 46,
      "metadata": {
        "execution": {
          "iopub.execute_input": "2024-06-28T15:36:11.678751Z",
          "iopub.status.busy": "2024-06-28T15:36:11.678401Z",
          "iopub.status.idle": "2024-06-28T15:36:27.632388Z",
          "shell.execute_reply": "2024-06-28T15:36:27.631482Z",
          "shell.execute_reply.started": "2024-06-28T15:36:11.678724Z"
        },
        "id": "RCs3g0Wxjnes",
        "trusted": true
      },
      "outputs": [
        {
          "name": "stderr",
          "output_type": "stream",
          "text": [
            "c:\\Users\\HP\\AppData\\Local\\Programs\\Python\\Python311\\Lib\\site-packages\\sklearn\\metrics\\_classification.py:1344: UndefinedMetricWarning: Precision is ill-defined and being set to 0.0 in labels with no predicted samples. Use `zero_division` parameter to control this behavior.\n",
            "  _warn_prf(average, modifier, msg_start, len(result))\n"
          ]
        },
        {
          "name": "stdout",
          "output_type": "stream",
          "text": [
            "Hasil evaluasi seluruh tag:\n",
            "Precision Score (Macro): 0.15\n",
            "Recall Score (Macro)   : 0.14\n",
            "F1-score Score (Macro) : 0.14\n"
          ]
        },
        {
          "name": "stderr",
          "output_type": "stream",
          "text": [
            "c:\\Users\\HP\\AppData\\Local\\Programs\\Python\\Python311\\Lib\\site-packages\\sklearn\\metrics\\_classification.py:1344: UndefinedMetricWarning: Precision and F-score are ill-defined and being set to 0.0 in labels with no predicted samples. Use `zero_division` parameter to control this behavior.\n",
            "  _warn_prf(average, modifier, msg_start, len(result))\n",
            "c:\\Users\\HP\\AppData\\Local\\Programs\\Python\\Python311\\Lib\\site-packages\\sklearn\\metrics\\_classification.py:1344: UndefinedMetricWarning: Precision and F-score are ill-defined and being set to 0.0 in labels with no predicted samples. Use `zero_division` parameter to control this behavior.\n",
            "  _warn_prf(average, modifier, msg_start, len(result))\n"
          ]
        },
        {
          "name": "stdout",
          "output_type": "stream",
          "text": [
            "\n",
            "Laporan Klasifikasi Setiap Tag:\n",
            "              precision    recall  f1-score   support\n",
            "\n",
            "      B_ARTV       0.00      0.00      0.00       309\n",
            "      B_CRIA       0.00      0.00      0.00       677\n",
            "      B_DEFN       0.00      0.00      0.00      1564\n",
            "      B_JUDP       0.00      0.00      0.00       244\n",
            "       B_JUG       0.00      0.00      0.00       459\n",
            "      B_PENA       0.00      0.00      0.00       113\n",
            "      B_PROS       0.00      0.00      0.00       119\n",
            "      B_PUNI       0.00      0.00      0.00       136\n",
            "      B_REGI       0.00      0.00      0.00       229\n",
            "      B_TIMV       0.00      0.00      0.00       129\n",
            "      B_VERN       0.00      0.00      0.00       358\n",
            "      I_ARTV       0.57      0.52      0.55      2908\n",
            "      I_CRIA       0.00      0.00      0.00       804\n",
            "      I_DEFN       0.58      0.34      0.43      5409\n",
            "      I_JUDP       0.00      0.00      0.00       253\n",
            "       I_JUG       0.00      0.00      0.00       782\n",
            "      I_PENA       0.00      0.00      0.00       657\n",
            "      I_PROS       0.00      0.00      0.00       270\n",
            "      I_PUNI       0.45      0.33      0.38       836\n",
            "      I_REGI       0.00      0.00      0.00       288\n",
            "      I_TIMV       0.00      0.00      0.00       294\n",
            "      I_VERN       0.88      0.99      0.93      3230\n",
            "           O       0.97      0.99      0.98    436732\n",
            "\n",
            "    accuracy                           0.97    456800\n",
            "   macro avg       0.15      0.14      0.14    456800\n",
            "weighted avg       0.95      0.97      0.96    456800\n",
            "\n"
          ]
        },
        {
          "name": "stderr",
          "output_type": "stream",
          "text": [
            "c:\\Users\\HP\\AppData\\Local\\Programs\\Python\\Python311\\Lib\\site-packages\\sklearn\\metrics\\_classification.py:1344: UndefinedMetricWarning: Precision and F-score are ill-defined and being set to 0.0 in labels with no predicted samples. Use `zero_division` parameter to control this behavior.\n",
            "  _warn_prf(average, modifier, msg_start, len(result))\n"
          ]
        }
      ],
      "source": [
        "hasil_evaluasiSGD = c_report(y_test_trueSGD, y_predSGD)"
      ]
    },
    {
      "cell_type": "code",
      "execution_count": null,
      "metadata": {
        "execution": {
          "iopub.execute_input": "2024-06-28T15:45:34.145576Z",
          "iopub.status.busy": "2024-06-28T15:45:34.145170Z",
          "iopub.status.idle": "2024-06-28T15:45:42.599733Z",
          "shell.execute_reply": "2024-06-28T15:45:42.598719Z",
          "shell.execute_reply.started": "2024-06-28T15:45:34.145546Z"
        },
        "id": "QGXQp-tOjnes",
        "trusted": true
      },
      "outputs": [],
      "source": [
        "report_image_pathSGD = 'Classification Report\\classification_report_SGD.png'\n",
        "Visualisasi_c_report(y_test_trueSGD, y_predSGD, filename=report_image_pathSGD)\n",
        "\n",
        "# Memeriksa apakah file gambar telah dibuat\n",
        "import os\n",
        "if os.path.exists(report_image_pathSGD):\n",
        "    print(f'Gambar classification report berhasil disimpan: {report_image_pathSGD}')\n",
        "else:\n",
        "    print('Gagal menyimpan gambar classification report.')\n"
      ]
    },
    {
      "cell_type": "markdown",
      "metadata": {
        "id": "74l8Unyujnet"
      },
      "source": [
        "Confusion Matrix"
      ]
    },
    {
      "cell_type": "code",
      "execution_count": 47,
      "metadata": {
        "execution": {
          "iopub.execute_input": "2024-06-28T15:37:03.195097Z",
          "iopub.status.busy": "2024-06-28T15:37:03.194376Z",
          "iopub.status.idle": "2024-06-28T15:37:06.643188Z",
          "shell.execute_reply": "2024-06-28T15:37:06.642223Z",
          "shell.execute_reply.started": "2024-06-28T15:37:03.195048Z"
        },
        "id": "E0lstbR9jnet",
        "trusted": true
      },
      "outputs": [
        {
          "data": {
            "image/png": "[encoded data removed]",
            "text/plain": [
              "<Figure size 1000x800 with 2 Axes>"
            ]
          },
          "metadata": {},
          "output_type": "display_data"
        }
      ],
      "source": [
        "from sklearn.metrics import confusion_matrix\n",
        "import seaborn as sns\n",
        "import matplotlib.pyplot as plt\n",
        "from sklearn.metrics import classification_report\n",
        "\n",
        "# Definisi class_names (sesuaikan dengan label yang sesuai dalam datasetmu)\n",
        "class_names = ['B_ARTV', 'B_CRIA', 'B_DEFN', 'B_JUG', 'B_JUDP', 'B_PENA', 'B_PROS', 'B_PUNI', 'B_REGI', 'B_TIMV', 'B_VERN', 'I_ARTV', 'I_CRIA', 'I_DEFN', 'I_JUG', 'I_JUDP', 'I_PENA', 'I_PROS', 'I_PUNI', 'I_REGI', 'I_TIMV', 'I_VERN', 'O']\n",
        "\n",
        "conf_matSGD = confusion_matrix([item for sublist in y_test_trueSGD for item in sublist],\n",
        "                            [item for sublist in y_predSGD for item in sublist],\n",
        "                            labels=class_names)\n",
        "# Visualisasi confusion matrix menggunakan heatmap\n",
        "plt.figure(figsize=(10, 8))\n",
        "sns.heatmap(conf_matSGD, annot=True, fmt=\".0f\", cmap=\"Blues\",\n",
        "            xticklabels=class_names, yticklabels=class_names)\n",
        "plt.title(\"Confusion Matrix SGD\")\n",
        "plt.xlabel(\"Predicted Label SGD\")\n",
        "plt.ylabel(\"True Label SGD\")\n",
        "plt.show()\n"
      ]
    },
    {
      "cell_type": "markdown",
      "metadata": {
        "id": "idRv-um8jnet"
      },
      "source": [
        "### Evaluasi Adam"
      ]
    },
    {
      "cell_type": "code",
      "execution_count": 48,
      "metadata": {
        "execution": {
          "iopub.execute_input": "2024-06-28T15:38:11.536735Z",
          "iopub.status.busy": "2024-06-28T15:38:11.536145Z",
          "iopub.status.idle": "2024-06-28T15:38:11.932666Z",
          "shell.execute_reply": "2024-06-28T15:38:11.931863Z",
          "shell.execute_reply.started": "2024-06-28T15:38:11.536687Z"
        },
        "id": "yQ8WzL7pjnet",
        "trusted": true
      },
      "outputs": [],
      "source": [
        "y_test_trueAdam = np.argmax(y_te, -1)\n",
        "y_predAdam = np.argmax(eveAdam, axis=-1)\n",
        "\n",
        "# Convert the index to tag\n",
        "y_test_trueAdam = [[idx2tag[i] for i in row] for row in y_test_trueAdam]\n",
        "y_predAdam = [[idx2tag[i] for i in row] for row in y_predAdam]"
      ]
    },
    {
      "cell_type": "markdown",
      "metadata": {
        "id": "4sfHxITEjneu"
      },
      "source": [
        "Classification Report"
      ]
    },
    {
      "cell_type": "code",
      "execution_count": 49,
      "metadata": {
        "execution": {
          "iopub.execute_input": "2024-06-28T15:38:12.135673Z",
          "iopub.status.busy": "2024-06-28T15:38:12.135239Z",
          "iopub.status.idle": "2024-06-28T15:38:28.040692Z",
          "shell.execute_reply": "2024-06-28T15:38:28.039650Z",
          "shell.execute_reply.started": "2024-06-28T15:38:12.135641Z"
        },
        "id": "27WbK1_kjneu",
        "trusted": true
      },
      "outputs": [
        {
          "name": "stdout",
          "output_type": "stream",
          "text": [
            "Hasil evaluasi seluruh tag:\n",
            "Precision Score (Macro): 0.88\n",
            "Recall Score (Macro)   : 0.89\n",
            "F1-score Score (Macro) : 0.88\n",
            "\n",
            "Laporan Klasifikasi Setiap Tag:\n",
            "              precision    recall  f1-score   support\n",
            "\n",
            "      B_ARTV       0.88      0.79      0.84       309\n",
            "      B_CRIA       0.88      0.79      0.83       677\n",
            "      B_DEFN       0.76      0.79      0.77      1564\n",
            "      B_JUDP       0.84      0.95      0.89       244\n",
            "       B_JUG       0.84      0.98      0.91       459\n",
            "      B_PENA       0.93      0.88      0.90       113\n",
            "      B_PROS       0.94      0.96      0.95       119\n",
            "      B_PUNI       0.84      0.88      0.86       136\n",
            "      B_REGI       0.80      0.86      0.83       229\n",
            "      B_TIMV       0.91      0.95      0.93       129\n",
            "      B_VERN       0.96      1.00      0.98       358\n",
            "      I_ARTV       0.81      0.87      0.84      2908\n",
            "      I_CRIA       0.75      0.76      0.76       804\n",
            "      I_DEFN       0.79      0.69      0.73      5409\n",
            "      I_JUDP       0.93      0.85      0.89       253\n",
            "       I_JUG       0.89      0.97      0.93       782\n",
            "      I_PENA       0.94      0.86      0.90       657\n",
            "      I_PROS       0.96      0.94      0.95       270\n",
            "      I_PUNI       0.85      0.90      0.87       836\n",
            "      I_REGI       0.72      0.91      0.81       288\n",
            "      I_TIMV       0.96      0.83      0.89       294\n",
            "      I_VERN       0.97      1.00      0.98      3230\n",
            "           O       0.99      0.99      0.99    436732\n",
            "\n",
            "    accuracy                           0.99    456800\n",
            "   macro avg       0.88      0.89      0.88    456800\n",
            "weighted avg       0.99      0.99      0.99    456800\n",
            "\n"
          ]
        }
      ],
      "source": [
        "hasil_evaluasiAdam = c_report(y_test_trueAdam, y_predAdam)"
      ]
    },
    {
      "cell_type": "code",
      "execution_count": null,
      "metadata": {
        "execution": {
          "iopub.execute_input": "2024-06-28T15:45:50.406328Z",
          "iopub.status.busy": "2024-06-28T15:45:50.405563Z",
          "iopub.status.idle": "2024-06-28T15:45:58.973881Z",
          "shell.execute_reply": "2024-06-28T15:45:58.972834Z",
          "shell.execute_reply.started": "2024-06-28T15:45:50.406274Z"
        },
        "id": "8-63yLv8jneu",
        "trusted": true
      },
      "outputs": [],
      "source": [
        "report_image_pathAdam = 'Classification Report\\classification_report_Adam.png'\n",
        "Visualisasi_c_report(y_test_trueAdam, y_predAdam, filename=report_image_pathAdam)\n",
        "\n",
        "# Memeriksa apakah file gambar telah dibuat\n",
        "import os\n",
        "if os.path.exists(report_image_pathAdam):\n",
        "    print(f'Gambar classification report berhasil disimpan: {report_image_pathAdam}')\n",
        "else:\n",
        "    print('Gagal menyimpan gambar classification report.')"
      ]
    },
    {
      "cell_type": "markdown",
      "metadata": {
        "id": "lRM7i5L9jneu"
      },
      "source": [
        "Confusion matrix"
      ]
    },
    {
      "cell_type": "code",
      "execution_count": 50,
      "metadata": {
        "execution": {
          "iopub.execute_input": "2024-06-28T15:42:55.219018Z",
          "iopub.status.busy": "2024-06-28T15:42:55.218617Z",
          "iopub.status.idle": "2024-06-28T15:42:58.700804Z",
          "shell.execute_reply": "2024-06-28T15:42:58.699532Z",
          "shell.execute_reply.started": "2024-06-28T15:42:55.218985Z"
        },
        "id": "cdZPhZP7jnev",
        "trusted": true
      },
      "outputs": [
        {
          "data": {
            "image/png": "[encoded data removed]",
            "text/plain": [
              "<Figure size 1000x800 with 2 Axes>"
            ]
          },
          "metadata": {},
          "output_type": "display_data"
        }
      ],
      "source": [
        "# Definisi class_names (sesuaikan dengan label yang sesuai dalam datasetmu)\n",
        "class_names = ['B_ARTV', 'B_CRIA', 'B_DEFN', 'B_JUG', 'B_JUDP', 'B_PENA', 'B_PROS', 'B_PUNI', 'B_REGI', 'B_TIMV', 'B_VERN', 'I_ARTV', 'I_CRIA', 'I_DEFN', 'I_JUG', 'I_JUDP', 'I_PENA', 'I_PROS', 'I_PUNI', 'I_REGI', 'I_TIMV', 'I_VERN', 'O']\n",
        "\n",
        "conf_matAdam = confusion_matrix([item for sublist in y_test_trueAdam for item in sublist],\n",
        "                            [item for sublist in y_predAdam for item in sublist],\n",
        "                            labels=class_names)\n",
        "# Visualisasi confusion matrix menggunakan heatmap\n",
        "plt.figure(figsize=(10, 8))\n",
        "sns.heatmap(conf_matAdam, annot=True, fmt=\".0f\", cmap=\"Blues\",\n",
        "            xticklabels=class_names, yticklabels=class_names)\n",
        "plt.title(\"Confusion Matrix Adam\")\n",
        "plt.xlabel(\"Predicted Label Adam\")\n",
        "plt.ylabel(\"True Label Adam\")\n",
        "plt.show()\n"
      ]
    },
    {
      "cell_type": "markdown",
      "metadata": {
        "id": "17bstOgSjnev"
      },
      "source": [
        "### Evaluasi Rmsprop"
      ]
    },
    {
      "cell_type": "code",
      "execution_count": 51,
      "metadata": {
        "execution": {
          "iopub.execute_input": "2024-06-28T15:43:05.659209Z",
          "iopub.status.busy": "2024-06-28T15:43:05.658830Z",
          "iopub.status.idle": "2024-06-28T15:43:06.025644Z",
          "shell.execute_reply": "2024-06-28T15:43:06.024595Z",
          "shell.execute_reply.started": "2024-06-28T15:43:05.659177Z"
        },
        "id": "8qkMIUCVjnev",
        "trusted": true
      },
      "outputs": [],
      "source": [
        "y_test_trueRmsprop = np.argmax(y_te, -1)\n",
        "y_predRmsprop = np.argmax(eveRmsprop, axis=-1)\n",
        "\n",
        "# Convert the index to tag\n",
        "y_test_trueRmsprop = [[idx2tag[i] for i in row] for row in y_test_trueRmsprop]\n",
        "y_predRmsprop = [[idx2tag[i] for i in row] for row in y_predRmsprop]"
      ]
    },
    {
      "cell_type": "markdown",
      "metadata": {
        "id": "kwqeoJbsjnev"
      },
      "source": [
        "Classification Report"
      ]
    },
    {
      "cell_type": "code",
      "execution_count": 52,
      "metadata": {
        "execution": {
          "iopub.execute_input": "2024-06-28T15:43:13.386944Z",
          "iopub.status.busy": "2024-06-28T15:43:13.386549Z",
          "iopub.status.idle": "2024-06-28T15:43:29.262442Z",
          "shell.execute_reply": "2024-06-28T15:43:29.261261Z",
          "shell.execute_reply.started": "2024-06-28T15:43:13.386913Z"
        },
        "id": "NB89g0v_jnev",
        "trusted": true
      },
      "outputs": [
        {
          "name": "stdout",
          "output_type": "stream",
          "text": [
            "Hasil evaluasi seluruh tag:\n",
            "Precision Score (Macro): 0.88\n",
            "Recall Score (Macro)   : 0.88\n",
            "F1-score Score (Macro) : 0.88\n",
            "\n",
            "Laporan Klasifikasi Setiap Tag:\n",
            "              precision    recall  f1-score   support\n",
            "\n",
            "      B_ARTV       0.83      0.82      0.82       309\n",
            "      B_CRIA       0.87      0.68      0.76       677\n",
            "      B_DEFN       0.66      0.82      0.73      1564\n",
            "      B_JUDP       0.90      0.85      0.88       244\n",
            "       B_JUG       0.82      0.98      0.89       459\n",
            "      B_PENA       0.89      0.88      0.88       113\n",
            "      B_PROS       0.98      0.99      0.98       119\n",
            "      B_PUNI       0.88      0.88      0.88       136\n",
            "      B_REGI       0.79      0.88      0.83       229\n",
            "      B_TIMV       0.89      0.93      0.91       129\n",
            "      B_VERN       0.95      1.00      0.98       358\n",
            "      I_ARTV       0.81      0.89      0.85      2908\n",
            "      I_CRIA       0.88      0.72      0.79       804\n",
            "      I_DEFN       0.74      0.77      0.76      5409\n",
            "      I_JUDP       0.95      0.68      0.80       253\n",
            "       I_JUG       0.86      0.99      0.92       782\n",
            "      I_PENA       0.95      0.89      0.92       657\n",
            "      I_PROS       0.96      0.95      0.96       270\n",
            "      I_PUNI       0.88      0.90      0.89       836\n",
            "      I_REGI       0.85      0.88      0.86       288\n",
            "      I_TIMV       0.96      0.83      0.89       294\n",
            "      I_VERN       0.95      1.00      0.98      3230\n",
            "           O       0.99      0.99      0.99    436732\n",
            "\n",
            "    accuracy                           0.99    456800\n",
            "   macro avg       0.88      0.88      0.88    456800\n",
            "weighted avg       0.99      0.99      0.99    456800\n",
            "\n"
          ]
        }
      ],
      "source": [
        "hasil_evaluasiRmsprop = c_report(y_test_trueRmsprop, y_predRmsprop)"
      ]
    },
    {
      "cell_type": "code",
      "execution_count": null,
      "metadata": {
        "execution": {
          "iopub.execute_input": "2024-06-28T15:46:13.611697Z",
          "iopub.status.busy": "2024-06-28T15:46:13.610752Z",
          "iopub.status.idle": "2024-06-28T15:46:22.103128Z",
          "shell.execute_reply": "2024-06-28T15:46:22.102082Z",
          "shell.execute_reply.started": "2024-06-28T15:46:13.611659Z"
        },
        "id": "KmvJZorbjnew",
        "trusted": true
      },
      "outputs": [],
      "source": [
        "report_image_pathRmsprop = 'Classification Report\\classification_report_Rmsprop.png'\n",
        "Visualisasi_c_report(y_test_trueRmsprop, y_predRmsprop, filename=report_image_pathRmsprop)\n",
        "\n",
        "# Memeriksa apakah file gambar telah dibuat\n",
        "import os\n",
        "if os.path.exists(report_image_pathRmsprop):\n",
        "    print(f'Gambar classification report berhasil disimpan: {report_image_pathRmsprop}')\n",
        "else:\n",
        "    print('Gagal menyimpan gambar classification report.')"
      ]
    },
    {
      "cell_type": "markdown",
      "metadata": {
        "id": "LIFNGdLojnew"
      },
      "source": [
        "Confusion Matrix"
      ]
    },
    {
      "cell_type": "code",
      "execution_count": 77,
      "metadata": {
        "execution": {
          "iopub.execute_input": "2024-06-28T16:33:51.232804Z",
          "iopub.status.busy": "2024-06-28T16:33:51.231801Z",
          "iopub.status.idle": "2024-06-28T16:33:54.779541Z",
          "shell.execute_reply": "2024-06-28T16:33:54.778478Z",
          "shell.execute_reply.started": "2024-06-28T16:33:51.232760Z"
        },
        "id": "2VIEgET8jnew",
        "trusted": true
      },
      "outputs": [
        {
          "data": {
            "image/png": "[encoded data removed]",
            "text/plain": [
              "<Figure size 1000x800 with 2 Axes>"
            ]
          },
          "metadata": {},
          "output_type": "display_data"
        }
      ],
      "source": [
        "# Definisi class_names (sesuaikan dengan label yang sesuai dalam datasetmu)\n",
        "class_names = ['B_ARTV', 'B_CRIA', 'B_DEFN', 'B_JUG', 'B_JUDP', 'B_PENA', 'B_PROS', 'B_PUNI', 'B_REGI', 'B_TIMV', 'B_VERN', 'I_ARTV', 'I_CRIA', 'I_DEFN', 'I_JUG', 'I_JUDP', 'I_PENA', 'I_PROS', 'I_PUNI', 'I_REGI', 'I_TIMV', 'I_VERN', 'O']\n",
        "\n",
        "conf_matRmsprop = confusion_matrix([item for sublist in y_test_trueRmsprop for item in sublist],\n",
        "                            [item for sublist in y_predRmsprop for item in sublist],\n",
        "                            labels=class_names)\n",
        "# Visualisasi confusion matrix menggunakan heatmap\n",
        "plt.figure(figsize=(10, 8))\n",
        "sns.heatmap(conf_matRmsprop, annot=True, fmt=\".0f\", cmap=\"Blues\",\n",
        "            xticklabels=class_names, yticklabels=class_names)\n",
        "plt.title(\"Confusion Matrix Rmsprop\")\n",
        "plt.xlabel(\"Predicted Label Rmsprop\")\n",
        "plt.ylabel(\"True Label Rmsprop\")\n",
        "plt.show()\n"
      ]
    },
    {
      "cell_type": "markdown",
      "metadata": {
        "id": "PT5c5-Kgjnex"
      },
      "source": [
        "## Prediksi Kalimat Baru"
      ]
    },
    {
      "cell_type": "code",
      "execution_count": 54,
      "metadata": {
        "execution": {
          "iopub.execute_input": "2024-06-28T15:47:00.737139Z",
          "iopub.status.busy": "2024-06-28T15:47:00.736777Z",
          "iopub.status.idle": "2024-06-28T15:47:00.846468Z",
          "shell.execute_reply": "2024-06-28T15:47:00.845602Z",
          "shell.execute_reply.started": "2024-06-28T15:47:00.737103Z"
        },
        "id": "-m7v25qBjnex",
        "trusted": true
      },
      "outputs": [],
      "source": [
        "from pypdf import PdfReader\n",
        "import re\n",
        "\n",
        "def pdf_to_text(file_path):\n",
        "    text = \"\"\n",
        "    reader = PdfReader(file_path)\n",
        "    for page in reader.pages:\n",
        "        text += page.extract_text()\n",
        "    return text\n",
        "\n",
        "def preprocess_text(text):\n",
        "    text = text.replace(\"Mahkamah Agung Republik Indonesia\\nMahkamah Agung Republik Indonesia\\nMahkamah Agung Republik Indonesia\\nMahkamah Agung Republik Indonesia\\nMahkamah Agung Republik Indonesia\\nDirektori Putusan Mahkamah Agung Republik Indonesia\\nputusan.mahkamahagung.go.id\\n\", \"\")\n",
        "    text = text.replace(\"\\nDisclaimer\\nKepaniteraan Mahkamah Agung Republik Indonesia berusaha untuk selalu mencantumkan informasi paling kini dan akurat sebagai bentuk komitmen Mahkamah Agung untuk pelayanan publik, transparansi dan akuntabilitas\\npelaksanaan fungsi peradilan. Namun dalam hal-hal tertentu masih dimungkinkan terjadi permasalahan teknis terkait dengan akurasi dan keterkinian informasi yang kami sajikan, hal mana akan terus kami perbaiki dari waktu kewaktu.\\nDalam hal Anda menemukan inakurasi informasi yang termuat pada situs ini atau informasi yang seharusnya ada, namun belum tersedia, maka harap segera hubungi Kepaniteraan Mahkamah Agung RI melalui :\\nEmail : kepaniteraan@mahkamahagung.go.id\", \"\")\n",
        "    text = text.replace('P U T U S A N', 'PUTUSAN').replace('T erdakwa', 'Terdakwa').replace('T empat', 'Tempat').replace('T ahun', 'Tahun')\n",
        "    text = text.replace('P  E  N  E  T  A  P  A  N', 'PENETAPAN').replace('J u m l a h', 'Jumlah').replace('M E N G A D I L I', 'MENGADILI')\n",
        "    text = re.sub(r'(Hal\\.\\s*\\S+(?:\\s*\\S+)?\\.?\\s*)|(Halaman \\d+(?:\\.\\d+)?\\s*)|Putusan Nomor \\S+\\s*', '', text)\n",
        "    text = re.sub(r'\\b0+(\\d+)', r'\\1', text)\n",
        "    text = text.replace('\\uf0d8', '').replace('\\uf0b7', '').replace('\\n', ' ')\n",
        "    text = re.sub(r'([“”\"])', r' \\1 ', text)\n",
        "    text = re.sub(r'\\s+', ' ', text)\n",
        "    text = re.sub(r'halaman\\s*\\d+\\s*dari\\s*\\d+\\s*', '', text)\n",
        "    text = re.sub(r'^\\s*dari\\s+\\d+\\s+bkl\\s+', '', text, flags=re.IGNORECASE)\n",
        "    text = re.sub(r'^\\s*dari\\s+\\d+\\s+smp\\s+', '', text, flags=re.IGNORECASE)\n",
        "    text = re.sub(r'\\s+/PN', '/PN', text)\n",
        "    text = re.sub(r'(\\d+)\\s*/pid', r'\\1/pid', text)\n",
        "    text = re.sub(r'(?i)(nomor)(\\d+)', r'\\1 \\2', text)\n",
        "    text = re.sub(r'(\\d+)/\\s*(pid\\.\\w+)/\\s*(\\d{4})/\\s*(pn)', r'\\1/\\2/\\3/\\4', text, flags=re.IGNORECASE)\n",
        "    return text.lower().strip()\n",
        "\n",
        "def multiple_replace(text, replacements):\n",
        "    regex = re.compile('|'.join(re.escape(key) for key in replacements.keys()))\n",
        "\n",
        "    def replace(match):\n",
        "        return replacements[match.group(0)]\n",
        "\n",
        "    return regex.sub(replace, text)\n",
        "\n",
        "def tokenize_text(text):\n",
        "    tokens = re.findall(r'\\w+|[^\\w\\s]', text)\n",
        "    return tokens\n",
        "\n"
      ]
    },
    {
      "cell_type": "code",
      "execution_count": 55,
      "metadata": {
        "execution": {
          "iopub.execute_input": "2024-06-28T16:35:16.966028Z",
          "iopub.status.busy": "2024-06-28T16:35:16.965650Z",
          "iopub.status.idle": "2024-06-28T16:35:16.977952Z",
          "shell.execute_reply": "2024-06-28T16:35:16.976762Z",
          "shell.execute_reply.started": "2024-06-28T16:35:16.966000Z"
        },
        "id": "2GT9YPLdjney",
        "trusted": true
      },
      "outputs": [],
      "source": [
        "replacements = {\n",
        "    '1 0': '10' ,'20 20': '2020', '2 7' : '27', 'a gustus' : 'agustus', '( 2)': '(2)', '.,': ' .,', ',s': ' ,s','ted dy' : 'teddy',\n",
        "    'ro omius,' : 'roomius,', 'h ukum': 'hukum', '//pn': '/pn', '2022oleh' : '2022 oleh', 'alimuddi n,' : 'alimuddin,', '202 3': '2023',\n",
        "    'perkos aan': 'perkosaan', 'memberatka n': 'memberatkan', 'p idana': 'pidana', 'sebag aimana': 'sebagaimana', 'bulan;' : 'bulan', '2 23' : '2023',\n",
        "    '2 023': '2023','2 022': '2022', 'f isik': 'fisik', 'be rsalah': 'bersalah', '(sepuluh )': '(sepuluh)', 'ap ril' : 'april',\n",
        "    '(enam )': '(enam)', 'no mor': 'nomor', '( 3)': '(3)', 'an ak': 'anak', 'tuj uh': 'tujuh', 'hu bungan': 'hubungan', 'pencur ian' : 'pencurian',\n",
        "    'selam a1 (satu)' : 'selama 1 (satu)', '(empat )' : '(empat)', 's eptember' : 'september', 'keadaa n' : 'keadaan', '27januari' : '27 januari',\n",
        "    'bulan;3.menetapkan' : 'bulan 3.menetapkan','januari,2023' : 'januari 2023', '202 2' : '2022','202 4' : '2024', '202 3' : '2023','2023//' : '2023',\n",
        "    '20 22' : '2022','20 21' : '2021','202 1' : '2021', '27januari' : '27 januari', 'januari,2023' : 'januari 2023', 'sepember' : 'september',\n",
        "    'bk l' : 'bkl','pm k' : 'pmk', 'bki' : 'bkl',  'pid.b /' : 'pid.b/', 'pn.' : 'pn ', 'pid. b' : 'pid.b', 'pnpmk' : 'pn pmk', '2023pn' : '2023 pn',\n",
        "    'smp.' : 'smp', '(al m)' : '(alm)', 'Al m' : 'Alm', \"'\" : '’', 'b in' : 'bin', 'bu lan' : 'bulan', 'kuhpdan' : 'kuhp dan',\n",
        "    'pencuriandalam' : 'pencurian dalam', 'keadaa n' : 'keadaan', 'pembunuhanberencana' : 'pembunuhan berencana', 'bulan3.menetapkan' : 'bulan 3.menetapkan',\n",
        "    'bulan3.menyatakan' :  'bulan 3.menyatakan', 't aufik' : 'taufik', 'olehhaidir' : 'oleh haidir','olehfajrini' : 'oleh fajrini', 'janurai' : 'januari',\n",
        "    'nopember': 'november','pebruari': 'februari','a gustus' : 'agustus', 'september2023,' : 'september 2023,','aapril' : 'april', 'ja nuari' : 'januari',\n",
        "    'no mor': 'nomor', ',serta' : ', serta', 'agussyamsul' : 'agus syamsul', 'a stuti' : 'astuti'\n",
        "}"
      ]
    },
    {
      "cell_type": "code",
      "execution_count": 56,
      "metadata": {
        "execution": {
          "iopub.execute_input": "2024-06-28T16:35:18.143816Z",
          "iopub.status.busy": "2024-06-28T16:35:18.143442Z",
          "iopub.status.idle": "2024-06-28T16:35:21.134511Z",
          "shell.execute_reply": "2024-06-28T16:35:21.133455Z",
          "shell.execute_reply.started": "2024-06-28T16:35:18.143784Z"
        },
        "id": "AXv21tzCjney",
        "trusted": true
      },
      "outputs": [],
      "source": [
        "pdf_path = '../Data/Test/7_Pid.B_2023_PN_Bkl.pdf'\n",
        "text = pdf_to_text(pdf_path)\n",
        "preprocessed_text = preprocess_text(text)\n",
        "preprocessed_text = multiple_replace(preprocessed_text, replacements)\n",
        "tokens = tokenize_text(preprocessed_text)"
      ]
    },
    {
      "cell_type": "code",
      "execution_count": 57,
      "metadata": {
        "execution": {
          "iopub.execute_input": "2024-06-28T15:58:38.950244Z",
          "iopub.status.busy": "2024-06-28T15:58:38.949326Z",
          "iopub.status.idle": "2024-06-28T15:58:59.479050Z",
          "shell.execute_reply": "2024-06-28T15:58:59.477993Z",
          "shell.execute_reply.started": "2024-06-28T15:58:38.950205Z"
        },
        "id": "ncu8XFghjney",
        "trusted": true
      },
      "outputs": [
        {
          "name": "stderr",
          "output_type": "stream",
          "text": [
            "[nltk_data] Downloading package punkt to\n",
            "[nltk_data]     C:\\Users\\HP\\AppData\\Roaming\\nltk_data...\n",
            "[nltk_data]   Package punkt is already up-to-date!\n"
          ]
        },
        {
          "data": {
            "text/plain": [
              "True"
            ]
          },
          "execution_count": 57,
          "metadata": {},
          "output_type": "execute_result"
        }
      ],
      "source": [
        "import nltk\n",
        "nltk.download('punkt')"
      ]
    },
    {
      "cell_type": "code",
      "execution_count": 64,
      "metadata": {
        "execution": {
          "iopub.status.busy": "2024-06-28T13:58:34.151891Z",
          "iopub.status.idle": "2024-06-28T13:58:34.152265Z",
          "shell.execute_reply": "2024-06-28T13:58:34.152080Z",
          "shell.execute_reply.started": "2024-06-28T13:58:34.152066Z"
        },
        "id": "5BkaOnohjney",
        "trusted": true
      },
      "outputs": [],
      "source": [
        "# from nltk.tokenize import word_tokenize\n",
        "# def predict_labels(model, sentence, target_tags):\n",
        "#     # Memisahkan kalimat menjadi beberapa kalimat berdasarkan tanda ';'\n",
        "#     sentences = sentence.split(';')\n",
        "#     all_sentence_results = []\n",
        "\n",
        "#     for sent in sentences:\n",
        "# #         words = split_token(sent)\n",
        "# #         Tokenisasi kalimat menjadi kata-kata\n",
        "#         words = sent.strip().split()\n",
        "#         words = [re.split(r'(\\W)', word) for word in words]\n",
        "#         words = [item for sublist in words for item in sublist if item.strip()]\n",
        "#         # Mendapatkan embedding kata dari model\n",
        "#         embeddings = [get_word_embedding(word) for word in words]\n",
        "#         # Padding sequence jika panjang kurang dari MAX_LEN\n",
        "#         padded_sequence = pad_sequences([embeddings], maxlen=MAX_LEN, padding=\"post\", dtype='float32', value=np.zeros(cbow_model.vector_size))\n",
        "# #         padded_sequence = np.array(padded_sequence)\n",
        "#         # Melakukan prediksi dengan model\n",
        "#         predictions = model.predict(padded_sequence)\n",
        "#         # Mengambil indeks label terbesar untuk setiap kata\n",
        "#         predicted_labels = np.argmax(predictions, axis=-1)[0]\n",
        "#         # Mengubah indeks label menjadi tag kata\n",
        "#         predicted_tags = [idx2tag[idx] for idx in predicted_labels]\n",
        "# #         print(words)\n",
        "# #         print(predicted_tags)\n",
        "#         # Menyimpan hasil untuk setiap tag yang ditemukan dalam satu kalimat\n",
        "#         temp_results = {key: [] for key in target_tags}\n",
        "\n",
        "#         # Memetakan kata-kata berdasarkan prediksi tag\n",
        "#         for word, tag in zip(words, predicted_tags):\n",
        "#             for key, tags in target_tags.items():\n",
        "#                 if tag in tags:\n",
        "#                     temp_results[key].append(word)\n",
        "\n",
        "#         # Menyatukan hasil dari kalimat ini ke dalam combined_results jika belum ada hasil untuk tag tersebut\n",
        "#         for key in temp_results:\n",
        "#             temp_results[key] = ' '.join(sorted(set(temp_results[key]), key=temp_results[key].index))\n",
        "#         all_sentence_results.append(temp_results)\n",
        "#         print(all_sentence_results)\n",
        "\n",
        "#     return all_sentence_results"
      ]
    },
    {
      "cell_type": "code",
      "execution_count": 70,
      "metadata": {
        "execution": {
          "iopub.execute_input": "2024-06-28T16:35:22.860818Z",
          "iopub.status.busy": "2024-06-28T16:35:22.860419Z",
          "iopub.status.idle": "2024-06-28T16:35:22.884922Z",
          "shell.execute_reply": "2024-06-28T16:35:22.883724Z",
          "shell.execute_reply.started": "2024-06-28T16:35:22.860783Z"
        },
        "id": "qVsGdQsUjnez",
        "trusted": true
      },
      "outputs": [],
      "source": [
        "def predict_labels(model, sentence, target_tags):\n",
        "    # Memisahkan kalimat menjadi beberapa kalimat berdasarkan tanda ';'\n",
        "    sentences = sentence.split(';')\n",
        "\n",
        "    # Inisialisasi dictionary hasil dengan semua target tags\n",
        "    combined_results = {key: \"\" for key in target_tags}\n",
        "    found_terdakwa = []\n",
        "    tags_from_start = [\"nomor putusan\",\"nama terdakwa\",  \"melanggar UU\", \"putusan hukuman\", \"tuntutan hukuman\"]\n",
        "    # Daftar tag yang diambil dari akhir ke awal\n",
        "    tags_from_end = [\"jenis dakwaan\",\"tanggal putusan\", \"hakim ketua\", \"hakim anggota\", \"penuntut umum\", \"panitera\"]\n",
        "\n",
        "\n",
        "    for sent in sentences:\n",
        "        # Tokenisasi kalimat menjadi kata-kata\n",
        "        words = sent.strip().split()\n",
        "        words = [re.split(r'(\\W)', word) for word in words]\n",
        "        words = [item for sublist in words for item in sublist if item.strip()]\n",
        "\n",
        "        # Mendapatkan embedding kata dari model\n",
        "        embeddings = [get_word_embedding(word) for word in words]\n",
        "\n",
        "        # Padding sequence jika panjang kurang dari MAX_LEN\n",
        "        padded_sequence = pad_sequences([embeddings], maxlen=MAX_LEN, padding=\"post\", dtype='float32', value=np.zeros(cbow_model.vector_size))\n",
        "\n",
        "        # Melakukan prediksi dengan model\n",
        "        predictions = model.predict(padded_sequence)\n",
        "\n",
        "        # Mengambil indeks label terbesar untuk setiap kata\n",
        "        predicted_labels = np.argmax(predictions, axis=-1)[0]\n",
        "\n",
        "        # Mengubah indeks label menjadi tag kata\n",
        "        predicted_tags = [idx2tag[idx] for idx in predicted_labels]\n",
        "#         print(words)\n",
        "#         print(predicted_tags)\n",
        "\n",
        "        # Menyimpan hasil untuk setiap tag yang ditemukan dalam satu kalimat\n",
        "        temp_results = {key: [] for key in target_tags}\n",
        "\n",
        "        # Memetakan kata-kata berdasarkan prediksi tag\n",
        "        for word, tag in zip(words, predicted_tags):\n",
        "            for key, tags in target_tags.items():\n",
        "                if tag in tags:\n",
        "                    temp_results[key].append(word)\n",
        "\n",
        "        for key in temp_results:\n",
        "            if key in tags_from_start and not combined_results[key] and temp_results[key]:\n",
        "                combined_results[key] = ' '.join(sorted(set(temp_results[key]), key=temp_results[key].index))\n",
        "\n",
        "\n",
        "# Mengambil entitas dari kalimat akhir ke awal\n",
        "    for sent in reversed(sentences):\n",
        "        if all(combined_results[key] for key in tags_from_end):\n",
        "            break\n",
        "        # Tokenisasi kalimat menjadi kata-kata\n",
        "        words = sent.strip().split()\n",
        "        words = [re.split(r'(\\W)', word) for word in words]\n",
        "        words = [item for sublist in words for item in sublist if item.strip()]\n",
        "\n",
        "        # Mendapatkan embedding kata dari model\n",
        "        embeddings = [get_word_embedding(word) for word in words]\n",
        "\n",
        "        # Padding sequence jika panjang kurang dari MAX_LEN\n",
        "        padded_sequence = pad_sequences([embeddings], maxlen=MAX_LEN, padding=\"post\", dtype='float32', value=np.zeros(cbow_model.vector_size))\n",
        "\n",
        "        # Melakukan prediksi dengan model\n",
        "        predictions = model.predict(padded_sequence)\n",
        "\n",
        "        # Mengambil indeks label terbesar untuk setiap kata\n",
        "        predicted_labels = np.argmax(predictions, axis=-1)[0]\n",
        "\n",
        "        # Mengubah indeks label menjadi tag kata\n",
        "        predicted_tags = [idx2tag[idx] for idx in predicted_labels]\n",
        "\n",
        "        # Menyimpan hasil untuk setiap tag yang ditemukan dalam satu kalimat\n",
        "        temp_results = {key: [] for key in target_tags}\n",
        "\n",
        "        # Memetakan kata-kata berdasarkan prediksi tag\n",
        "        for word, tag in zip(words, predicted_tags):\n",
        "            for key, tags in target_tags.items():\n",
        "                if tag in tags:\n",
        "                    temp_results[key].append(word)\n",
        "\n",
        "        # Menggabungkan hasil dari kalimat ini ke dalam combined_results jika belum ada hasil untuk tag tersebut\n",
        "        for key in temp_results:\n",
        "            if key in tags_from_end and not combined_results[key] and temp_results[key]:\n",
        "                combined_results[key] = ' '.join(sorted(set(temp_results[key]), key=temp_results[key].index))\n",
        "    if combined_results['hakim anggota']:\n",
        "        combined_results['hakim anggota'] = process_hakim_anggota(combined_results['hakim anggota'])\n",
        "\n",
        "\n",
        "    return combined_results\n",
        "\n",
        "def process_hakim_anggota(text):\n",
        "    # Find all sequences that match the pattern and combine them with 'dan'\n",
        "    matches = re.findall(r'(\\w+\\s\\w+)', text)\n",
        "    if matches:\n",
        "        return ' dan '.join(matches)\n",
        "    return text"
      ]
    },
    {
      "cell_type": "code",
      "execution_count": 71,
      "metadata": {
        "execution": {
          "iopub.execute_input": "2024-06-28T16:35:23.463067Z",
          "iopub.status.busy": "2024-06-28T16:35:23.462175Z",
          "iopub.status.idle": "2024-06-28T16:35:23.468854Z",
          "shell.execute_reply": "2024-06-28T16:35:23.467769Z",
          "shell.execute_reply.started": "2024-06-28T16:35:23.463034Z"
        },
        "id": "ltHF_spZjnez",
        "trusted": true
      },
      "outputs": [],
      "source": [
        "target_tags = {\"nomor putusan\": [\"B_VERN\", \"I_VERN\"], \"nama terdakwa\": [\"B_DEFN\", \"I_DEFN\"], \"jenis dakwaan\": [\"B_CRIA\", \"I_CRIA\"],\n",
        "              \"melanggar UU\": [\"B_ARTV\", \"I_ARTV\"], \"putusan hukuman\": [\"B_PUNI\", \"I_PUNI\"], \"tuntutan hukuman\": [\"B_PENA\", \"I_PENA\"],\n",
        "              \"tanggal putusan\": [\"B_TIMV\", \"I_TIMV\"], \"hakim ketua\": [\"B_JUDP\", \"I_JUDP\"], \"hakim anggota\": [\"B_JUG\", \"I_JUG\"],\n",
        "              \"penuntut umum\": [\"B_PROS\", \"I_PROS\"], \"panitera\": [\"B_REGI\", \"I_REGI\"]}"
      ]
    },
    {
      "cell_type": "markdown",
      "metadata": {
        "id": "Kt75AXXDjnez"
      },
      "source": [
        "### Prediksi SGD"
      ]
    },
    {
      "cell_type": "code",
      "execution_count": 72,
      "metadata": {
        "execution": {
          "iopub.execute_input": "2024-06-28T16:35:24.407028Z",
          "iopub.status.busy": "2024-06-28T16:35:24.406264Z",
          "iopub.status.idle": "2024-06-28T16:36:13.055984Z",
          "shell.execute_reply": "2024-06-28T16:36:13.055126Z",
          "shell.execute_reply.started": "2024-06-28T16:35:24.406993Z"
        },
        "id": "ahJH38_qjnez",
        "trusted": true
      },
      "outputs": [
        {
          "name": "stdout",
          "output_type": "stream",
          "text": [
            "1/1 [==============================] - 0s 418ms/step\n",
            "1/1 [==============================] - 0s 72ms/step\n",
            "1/1 [==============================] - 0s 75ms/step\n",
            "1/1 [==============================] - 0s 106ms/step\n",
            "1/1 [==============================] - 0s 78ms/step\n",
            "1/1 [==============================] - 0s 72ms/step\n",
            "1/1 [==============================] - 0s 84ms/step\n",
            "1/1 [==============================] - 0s 73ms/step\n",
            "1/1 [==============================] - 0s 73ms/step\n",
            "1/1 [==============================] - 0s 71ms/step\n",
            "1/1 [==============================] - 0s 79ms/step\n",
            "1/1 [==============================] - 0s 85ms/step\n",
            "1/1 [==============================] - 0s 76ms/step\n",
            "1/1 [==============================] - 0s 97ms/step\n",
            "1/1 [==============================] - 0s 78ms/step\n",
            "1/1 [==============================] - 0s 69ms/step\n",
            "1/1 [==============================] - 0s 80ms/step\n",
            "1/1 [==============================] - 0s 67ms/step\n",
            "1/1 [==============================] - 0s 77ms/step\n",
            "1/1 [==============================] - 0s 70ms/step\n",
            "1/1 [==============================] - 0s 78ms/step\n",
            "1/1 [==============================] - 0s 78ms/step\n",
            "1/1 [==============================] - 0s 71ms/step\n",
            "1/1 [==============================] - 0s 73ms/step\n",
            "1/1 [==============================] - 0s 80ms/step\n",
            "1/1 [==============================] - 0s 83ms/step\n",
            "1/1 [==============================] - 0s 76ms/step\n",
            "1/1 [==============================] - 0s 82ms/step\n",
            "1/1 [==============================] - 0s 110ms/step\n",
            "1/1 [==============================] - 0s 68ms/step\n",
            "1/1 [==============================] - 0s 66ms/step\n",
            "1/1 [==============================] - 0s 78ms/step\n",
            "1/1 [==============================] - 0s 76ms/step\n",
            "1/1 [==============================] - 0s 72ms/step\n",
            "1/1 [==============================] - 0s 62ms/step\n",
            "1/1 [==============================] - 0s 80ms/step\n",
            "1/1 [==============================] - 0s 78ms/step\n",
            "1/1 [==============================] - 0s 65ms/step\n",
            "1/1 [==============================] - 0s 86ms/step\n",
            "1/1 [==============================] - 0s 70ms/step\n",
            "1/1 [==============================] - 0s 134ms/step\n",
            "1/1 [==============================] - 0s 259ms/step\n",
            "1/1 [==============================] - 0s 65ms/step\n",
            "1/1 [==============================] - 0s 81ms/step\n",
            "1/1 [==============================] - 0s 72ms/step\n",
            "1/1 [==============================] - 0s 81ms/step\n",
            "1/1 [==============================] - 0s 81ms/step\n",
            "1/1 [==============================] - 0s 66ms/step\n",
            "1/1 [==============================] - 0s 83ms/step\n",
            "1/1 [==============================] - 0s 103ms/step\n",
            "1/1 [==============================] - 0s 63ms/step\n",
            "1/1 [==============================] - 0s 91ms/step\n",
            "1/1 [==============================] - 0s 146ms/step\n",
            "1/1 [==============================] - 0s 71ms/step\n",
            "1/1 [==============================] - 0s 88ms/step\n",
            "1/1 [==============================] - 0s 66ms/step\n",
            "1/1 [==============================] - 0s 71ms/step\n",
            "1/1 [==============================] - 0s 80ms/step\n",
            "1/1 [==============================] - 0s 77ms/step\n",
            "1/1 [==============================] - 0s 69ms/step\n",
            "1/1 [==============================] - 0s 116ms/step\n",
            "1/1 [==============================] - 0s 71ms/step\n",
            "1/1 [==============================] - 0s 95ms/step\n",
            "1/1 [==============================] - 0s 68ms/step\n",
            "1/1 [==============================] - 0s 83ms/step\n",
            "1/1 [==============================] - 0s 68ms/step\n",
            "1/1 [==============================] - 0s 75ms/step\n",
            "1/1 [==============================] - 0s 67ms/step\n",
            "1/1 [==============================] - 0s 104ms/step\n",
            "1/1 [==============================] - 0s 67ms/step\n",
            "1/1 [==============================] - 0s 75ms/step\n",
            "1/1 [==============================] - 0s 70ms/step\n",
            "1/1 [==============================] - 0s 71ms/step\n",
            "1/1 [==============================] - 0s 84ms/step\n",
            "1/1 [==============================] - 0s 78ms/step\n",
            "1/1 [==============================] - 0s 81ms/step\n",
            "1/1 [==============================] - 0s 78ms/step\n",
            "1/1 [==============================] - 0s 81ms/step\n",
            "1/1 [==============================] - 0s 66ms/step\n",
            "1/1 [==============================] - 0s 89ms/step\n",
            "1/1 [==============================] - 0s 68ms/step\n",
            "1/1 [==============================] - 0s 67ms/step\n",
            "1/1 [==============================] - 0s 90ms/step\n",
            "1/1 [==============================] - 0s 66ms/step\n",
            "1/1 [==============================] - 0s 69ms/step\n",
            "1/1 [==============================] - 0s 69ms/step\n",
            "1/1 [==============================] - 0s 72ms/step\n",
            "1/1 [==============================] - 0s 64ms/step\n",
            "1/1 [==============================] - 0s 78ms/step\n",
            "1/1 [==============================] - 0s 72ms/step\n",
            "1/1 [==============================] - 0s 66ms/step\n",
            "1/1 [==============================] - 0s 69ms/step\n",
            "1/1 [==============================] - 0s 70ms/step\n",
            "1/1 [==============================] - 0s 65ms/step\n",
            "1/1 [==============================] - 0s 91ms/step\n",
            "1/1 [==============================] - 0s 70ms/step\n",
            "1/1 [==============================] - 0s 68ms/step\n",
            "1/1 [==============================] - 0s 68ms/step\n",
            "1/1 [==============================] - 0s 64ms/step\n",
            "1/1 [==============================] - 0s 65ms/step\n",
            "1/1 [==============================] - 0s 70ms/step\n",
            "1/1 [==============================] - 0s 66ms/step\n",
            "1/1 [==============================] - 0s 70ms/step\n",
            "1/1 [==============================] - 0s 71ms/step\n",
            "1/1 [==============================] - 0s 64ms/step\n",
            "1/1 [==============================] - 0s 74ms/step\n",
            "1/1 [==============================] - 0s 72ms/step\n",
            "1/1 [==============================] - 0s 67ms/step\n",
            "1/1 [==============================] - 0s 81ms/step\n",
            "1/1 [==============================] - 0s 127ms/step\n",
            "1/1 [==============================] - 0s 96ms/step\n",
            "1/1 [==============================] - 0s 110ms/step\n",
            "1/1 [==============================] - 0s 98ms/step\n",
            "1/1 [==============================] - 0s 82ms/step\n",
            "1/1 [==============================] - 0s 75ms/step\n",
            "1/1 [==============================] - 0s 76ms/step\n",
            "1/1 [==============================] - 0s 68ms/step\n",
            "1/1 [==============================] - 0s 82ms/step\n",
            "1/1 [==============================] - 0s 123ms/step\n",
            "1/1 [==============================] - 0s 95ms/step\n",
            "1/1 [==============================] - 0s 69ms/step\n",
            "1/1 [==============================] - 0s 76ms/step\n",
            "1/1 [==============================] - 0s 63ms/step\n",
            "1/1 [==============================] - 0s 64ms/step\n",
            "1/1 [==============================] - 0s 79ms/step\n",
            "1/1 [==============================] - 0s 64ms/step\n",
            "1/1 [==============================] - 0s 73ms/step\n",
            "1/1 [==============================] - 0s 86ms/step\n",
            "1/1 [==============================] - 0s 77ms/step\n",
            "1/1 [==============================] - 0s 62ms/step\n",
            "1/1 [==============================] - 0s 75ms/step\n",
            "1/1 [==============================] - 0s 74ms/step\n",
            "1/1 [==============================] - 0s 72ms/step\n",
            "1/1 [==============================] - 0s 68ms/step\n",
            "1/1 [==============================] - 0s 63ms/step\n",
            "1/1 [==============================] - 0s 69ms/step\n",
            "1/1 [==============================] - 0s 76ms/step\n",
            "1/1 [==============================] - 0s 72ms/step\n",
            "1/1 [==============================] - 0s 68ms/step\n",
            "1/1 [==============================] - 0s 77ms/step\n",
            "1/1 [==============================] - 0s 167ms/step\n",
            "1/1 [==============================] - 0s 78ms/step\n",
            "1/1 [==============================] - 0s 78ms/step\n",
            "1/1 [==============================] - 0s 68ms/step\n",
            "1/1 [==============================] - 0s 80ms/step\n",
            "1/1 [==============================] - 0s 60ms/step\n",
            "1/1 [==============================] - 0s 72ms/step\n",
            "1/1 [==============================] - 0s 79ms/step\n",
            "1/1 [==============================] - 0s 66ms/step\n",
            "1/1 [==============================] - 0s 84ms/step\n",
            "1/1 [==============================] - 0s 67ms/step\n",
            "1/1 [==============================] - 0s 73ms/step\n",
            "1/1 [==============================] - 0s 67ms/step\n",
            "1/1 [==============================] - 0s 72ms/step\n",
            "1/1 [==============================] - 0s 69ms/step\n",
            "1/1 [==============================] - 0s 68ms/step\n",
            "1/1 [==============================] - 0s 70ms/step\n",
            "1/1 [==============================] - 0s 74ms/step\n",
            "1/1 [==============================] - 0s 62ms/step\n",
            "1/1 [==============================] - 0s 65ms/step\n",
            "1/1 [==============================] - 0s 73ms/step\n",
            "1/1 [==============================] - 0s 85ms/step\n",
            "1/1 [==============================] - 0s 80ms/step\n",
            "1/1 [==============================] - 0s 74ms/step\n",
            "1/1 [==============================] - 0s 63ms/step\n",
            "1/1 [==============================] - 0s 81ms/step\n",
            "1/1 [==============================] - 0s 71ms/step\n",
            "1/1 [==============================] - 0s 67ms/step\n",
            "1/1 [==============================] - 0s 73ms/step\n",
            "1/1 [==============================] - 0s 63ms/step\n",
            "1/1 [==============================] - 0s 72ms/step\n",
            "1/1 [==============================] - 0s 99ms/step\n",
            "1/1 [==============================] - 0s 99ms/step\n",
            "1/1 [==============================] - 0s 86ms/step\n",
            "1/1 [==============================] - 0s 66ms/step\n",
            "1/1 [==============================] - 0s 73ms/step\n",
            "1/1 [==============================] - 0s 78ms/step\n",
            "1/1 [==============================] - 0s 68ms/step\n",
            "1/1 [==============================] - 0s 77ms/step\n",
            "1/1 [==============================] - 0s 78ms/step\n",
            "1/1 [==============================] - 0s 69ms/step\n",
            "1/1 [==============================] - 0s 87ms/step\n",
            "1/1 [==============================] - 0s 62ms/step\n",
            "1/1 [==============================] - 0s 86ms/step\n",
            "1/1 [==============================] - 0s 77ms/step\n",
            "1/1 [==============================] - 0s 69ms/step\n",
            "1/1 [==============================] - 0s 66ms/step\n",
            "1/1 [==============================] - 0s 65ms/step\n",
            "1/1 [==============================] - 0s 82ms/step\n",
            "1/1 [==============================] - 0s 66ms/step\n",
            "1/1 [==============================] - 0s 66ms/step\n",
            "1/1 [==============================] - 0s 66ms/step\n",
            "1/1 [==============================] - 0s 75ms/step\n",
            "1/1 [==============================] - 0s 84ms/step\n",
            "1/1 [==============================] - 0s 67ms/step\n",
            "1/1 [==============================] - 0s 65ms/step\n",
            "1/1 [==============================] - 0s 61ms/step\n",
            "1/1 [==============================] - 0s 65ms/step\n",
            "1/1 [==============================] - 0s 94ms/step\n",
            "1/1 [==============================] - 0s 76ms/step\n",
            "1/1 [==============================] - 0s 65ms/step\n",
            "1/1 [==============================] - 0s 66ms/step\n",
            "1/1 [==============================] - 0s 76ms/step\n",
            "1/1 [==============================] - 0s 76ms/step\n",
            "1/1 [==============================] - 0s 109ms/step\n",
            "1/1 [==============================] - 0s 77ms/step\n",
            "1/1 [==============================] - 0s 101ms/step\n",
            "1/1 [==============================] - 0s 70ms/step\n",
            "1/1 [==============================] - 0s 76ms/step\n",
            "1/1 [==============================] - 0s 62ms/step\n",
            "1/1 [==============================] - 0s 78ms/step\n",
            "1/1 [==============================] - 0s 68ms/step\n",
            "1/1 [==============================] - 0s 65ms/step\n",
            "1/1 [==============================] - 0s 77ms/step\n",
            "1/1 [==============================] - 0s 72ms/step\n",
            "1/1 [==============================] - 0s 140ms/step\n",
            "1/1 [==============================] - 0s 68ms/step\n",
            "1/1 [==============================] - 0s 77ms/step\n",
            "1/1 [==============================] - 0s 65ms/step\n",
            "1/1 [==============================] - 0s 72ms/step\n",
            "1/1 [==============================] - 0s 70ms/step\n",
            "1/1 [==============================] - 0s 68ms/step\n",
            "1/1 [==============================] - 0s 72ms/step\n",
            "1/1 [==============================] - 0s 78ms/step\n",
            "1/1 [==============================] - 0s 65ms/step\n",
            "1/1 [==============================] - 0s 65ms/step\n",
            "1/1 [==============================] - 0s 67ms/step\n",
            "1/1 [==============================] - 0s 81ms/step\n",
            "1/1 [==============================] - 0s 100ms/step\n",
            "1/1 [==============================] - 0s 120ms/step\n",
            "1/1 [==============================] - 0s 74ms/step\n",
            "1/1 [==============================] - 0s 96ms/step\n",
            "1/1 [==============================] - 0s 89ms/step\n",
            "1/1 [==============================] - 0s 68ms/step\n",
            "1/1 [==============================] - 0s 65ms/step\n",
            "1/1 [==============================] - 0s 75ms/step\n",
            "1/1 [==============================] - 0s 69ms/step\n",
            "1/1 [==============================] - 0s 72ms/step\n",
            "1/1 [==============================] - 0s 79ms/step\n",
            "1/1 [==============================] - 0s 85ms/step\n",
            "1/1 [==============================] - 0s 73ms/step\n",
            "1/1 [==============================] - 0s 68ms/step\n",
            "1/1 [==============================] - 0s 98ms/step\n",
            "1/1 [==============================] - 0s 65ms/step\n",
            "1/1 [==============================] - 0s 66ms/step\n",
            "1/1 [==============================] - 0s 87ms/step\n",
            "1/1 [==============================] - 0s 62ms/step\n",
            "1/1 [==============================] - 0s 71ms/step\n",
            "1/1 [==============================] - 0s 78ms/step\n",
            "1/1 [==============================] - 0s 69ms/step\n",
            "1/1 [==============================] - 0s 66ms/step\n",
            "1/1 [==============================] - 0s 76ms/step\n",
            "1/1 [==============================] - 0s 69ms/step\n",
            "1/1 [==============================] - 0s 75ms/step\n",
            "1/1 [==============================] - 0s 67ms/step\n",
            "1/1 [==============================] - 0s 80ms/step\n",
            "1/1 [==============================] - 0s 68ms/step\n",
            "1/1 [==============================] - 0s 74ms/step\n",
            "1/1 [==============================] - 0s 67ms/step\n",
            "1/1 [==============================] - 0s 65ms/step\n",
            "1/1 [==============================] - 0s 77ms/step\n",
            "1/1 [==============================] - 0s 69ms/step\n",
            "1/1 [==============================] - 0s 83ms/step\n",
            "1/1 [==============================] - 0s 61ms/step\n",
            "1/1 [==============================] - 0s 116ms/step\n",
            "1/1 [==============================] - 0s 66ms/step\n",
            "1/1 [==============================] - 0s 81ms/step\n",
            "1/1 [==============================] - 0s 73ms/step\n",
            "1/1 [==============================] - 0s 69ms/step\n",
            "1/1 [==============================] - 0s 73ms/step\n",
            "1/1 [==============================] - 0s 81ms/step\n",
            "1/1 [==============================] - 0s 167ms/step\n",
            "1/1 [==============================] - 0s 69ms/step\n",
            "1/1 [==============================] - 0s 79ms/step\n",
            "1/1 [==============================] - 0s 66ms/step\n",
            "1/1 [==============================] - 0s 77ms/step\n",
            "1/1 [==============================] - 0s 76ms/step\n",
            "1/1 [==============================] - 0s 66ms/step\n",
            "1/1 [==============================] - 0s 96ms/step\n",
            "1/1 [==============================] - 0s 71ms/step\n",
            "1/1 [==============================] - 0s 80ms/step\n",
            "1/1 [==============================] - 0s 100ms/step\n",
            "1/1 [==============================] - 0s 68ms/step\n",
            "1/1 [==============================] - 0s 81ms/step\n",
            "1/1 [==============================] - 0s 71ms/step\n",
            "1/1 [==============================] - 0s 69ms/step\n",
            "1/1 [==============================] - 0s 66ms/step\n",
            "1/1 [==============================] - 0s 98ms/step\n"
          ]
        }
      ],
      "source": [
        "relevant_wordsSGD = predict_labels(modelSGD, preprocessed_text,target_tags)"
      ]
    },
    {
      "cell_type": "code",
      "execution_count": 73,
      "metadata": {
        "execution": {
          "iopub.execute_input": "2024-06-28T16:36:13.058470Z",
          "iopub.status.busy": "2024-06-28T16:36:13.058069Z",
          "iopub.status.idle": "2024-06-28T16:36:13.066821Z",
          "shell.execute_reply": "2024-06-28T16:36:13.065814Z",
          "shell.execute_reply.started": "2024-06-28T16:36:13.058438Z"
        },
        "id": "BirQqauQjne0",
        "trusted": true
      },
      "outputs": [
        {
          "name": "stdout",
          "output_type": "stream",
          "text": [
            "Nomor putusan: /pn bklnomor7pid.b/2023/\n",
            "Nama terdakwa: bin\n",
            "Tidak ada kata dengan tag jenis dakwaan dalam kalimat ini.\n",
            "Melanggar uu: ayat\n",
            "Putusan hukuman: ( satu ) tahun empat\n",
            "Tidak ada kata dengan tag tuntutan hukuman dalam kalimat ini.\n",
            "Tidak ada kata dengan tag tanggal putusan dalam kalimat ini.\n",
            "Tidak ada kata dengan tag hakim ketua dalam kalimat ini.\n",
            "Tidak ada kata dengan tag hakim anggota dalam kalimat ini.\n",
            "Tidak ada kata dengan tag penuntut umum dalam kalimat ini.\n",
            "Tidak ada kata dengan tag panitera dalam kalimat ini.\n"
          ]
        }
      ],
      "source": [
        "for key, words in relevant_wordsSGD.items():\n",
        "    if words:\n",
        "        if key.lower() == 'nomor putusan':\n",
        "            output = words.replace(' / ', '/').replace(' ','').replace('pn','pn ').replace('.b','.b/').replace('2021','2021/').replace('2022','2022/').replace('2023','2023/').replace('2024','2024/')\n",
        "        else:\n",
        "            output = words.replace('“','').replace('”','')\n",
        "        print(f\"{key.capitalize()}: {output}\")\n",
        "    else:\n",
        "        print(f\"Tidak ada kata dengan tag {key} dalam kalimat ini.\")"
      ]
    },
    {
      "cell_type": "markdown",
      "metadata": {
        "id": "bo7BKmFjjne0"
      },
      "source": [
        "### Prediksi Adam"
      ]
    },
    {
      "cell_type": "code",
      "execution_count": 74,
      "metadata": {
        "execution": {
          "iopub.execute_input": "2024-06-28T16:36:13.068468Z",
          "iopub.status.busy": "2024-06-28T16:36:13.068137Z",
          "iopub.status.idle": "2024-06-28T16:36:39.081877Z",
          "shell.execute_reply": "2024-06-28T16:36:39.080886Z",
          "shell.execute_reply.started": "2024-06-28T16:36:13.068441Z"
        },
        "id": "jMMXHKCjjne0",
        "trusted": true
      },
      "outputs": [
        {
          "name": "stdout",
          "output_type": "stream",
          "text": [
            "1/1 [==============================] - 0s 190ms/step\n",
            "1/1 [==============================] - 0s 89ms/step\n",
            "1/1 [==============================] - 0s 73ms/step\n",
            "1/1 [==============================] - 0s 75ms/step\n",
            "1/1 [==============================] - 0s 75ms/step\n",
            "1/1 [==============================] - 0s 111ms/step\n",
            "1/1 [==============================] - 0s 95ms/step\n",
            "1/1 [==============================] - 0s 76ms/step\n",
            "1/1 [==============================] - 0s 90ms/step\n",
            "1/1 [==============================] - 0s 107ms/step\n",
            "1/1 [==============================] - 0s 87ms/step\n",
            "1/1 [==============================] - 0s 98ms/step\n",
            "1/1 [==============================] - 0s 99ms/step\n",
            "1/1 [==============================] - 0s 97ms/step\n",
            "1/1 [==============================] - 0s 97ms/step\n",
            "1/1 [==============================] - 0s 77ms/step\n",
            "1/1 [==============================] - 0s 117ms/step\n",
            "1/1 [==============================] - 0s 131ms/step\n",
            "1/1 [==============================] - 0s 81ms/step\n",
            "1/1 [==============================] - 0s 78ms/step\n",
            "1/1 [==============================] - 0s 107ms/step\n",
            "1/1 [==============================] - 0s 105ms/step\n",
            "1/1 [==============================] - 0s 76ms/step\n",
            "1/1 [==============================] - 0s 71ms/step\n",
            "1/1 [==============================] - 0s 97ms/step\n",
            "1/1 [==============================] - 0s 74ms/step\n",
            "1/1 [==============================] - 0s 74ms/step\n",
            "1/1 [==============================] - 0s 92ms/step\n",
            "1/1 [==============================] - 0s 67ms/step\n",
            "1/1 [==============================] - 0s 72ms/step\n",
            "1/1 [==============================] - 0s 73ms/step\n",
            "1/1 [==============================] - 0s 75ms/step\n",
            "1/1 [==============================] - 0s 73ms/step\n",
            "1/1 [==============================] - 0s 72ms/step\n",
            "1/1 [==============================] - 0s 70ms/step\n",
            "1/1 [==============================] - 0s 94ms/step\n",
            "1/1 [==============================] - 0s 78ms/step\n",
            "1/1 [==============================] - 0s 72ms/step\n",
            "1/1 [==============================] - 0s 70ms/step\n",
            "1/1 [==============================] - 0s 76ms/step\n",
            "1/1 [==============================] - 0s 87ms/step\n",
            "1/1 [==============================] - 0s 78ms/step\n",
            "1/1 [==============================] - 0s 75ms/step\n",
            "1/1 [==============================] - 0s 105ms/step\n",
            "1/1 [==============================] - 0s 82ms/step\n",
            "1/1 [==============================] - 0s 75ms/step\n",
            "1/1 [==============================] - 0s 78ms/step\n",
            "1/1 [==============================] - 0s 67ms/step\n",
            "1/1 [==============================] - 0s 82ms/step\n",
            "1/1 [==============================] - 0s 92ms/step\n",
            "1/1 [==============================] - 0s 66ms/step\n",
            "1/1 [==============================] - 0s 68ms/step\n",
            "1/1 [==============================] - 0s 81ms/step\n",
            "1/1 [==============================] - 0s 71ms/step\n",
            "1/1 [==============================] - 0s 66ms/step\n",
            "1/1 [==============================] - 0s 70ms/step\n",
            "1/1 [==============================] - 0s 83ms/step\n",
            "1/1 [==============================] - 0s 80ms/step\n",
            "1/1 [==============================] - 0s 71ms/step\n",
            "1/1 [==============================] - 0s 67ms/step\n",
            "1/1 [==============================] - 0s 71ms/step\n",
            "1/1 [==============================] - 0s 123ms/step\n",
            "1/1 [==============================] - 0s 78ms/step\n",
            "1/1 [==============================] - 0s 73ms/step\n",
            "1/1 [==============================] - 0s 79ms/step\n",
            "1/1 [==============================] - 0s 75ms/step\n",
            "1/1 [==============================] - 0s 92ms/step\n",
            "1/1 [==============================] - 0s 77ms/step\n",
            "1/1 [==============================] - 0s 68ms/step\n",
            "1/1 [==============================] - 0s 78ms/step\n",
            "1/1 [==============================] - 0s 181ms/step\n",
            "1/1 [==============================] - 0s 96ms/step\n",
            "1/1 [==============================] - 0s 92ms/step\n",
            "1/1 [==============================] - 0s 121ms/step\n",
            "1/1 [==============================] - 0s 72ms/step\n",
            "1/1 [==============================] - 0s 88ms/step\n",
            "1/1 [==============================] - 0s 72ms/step\n",
            "1/1 [==============================] - 0s 91ms/step\n",
            "1/1 [==============================] - 0s 79ms/step\n",
            "1/1 [==============================] - 0s 66ms/step\n",
            "1/1 [==============================] - 0s 89ms/step\n",
            "1/1 [==============================] - 0s 68ms/step\n",
            "1/1 [==============================] - 0s 76ms/step\n",
            "1/1 [==============================] - 0s 85ms/step\n",
            "1/1 [==============================] - 0s 73ms/step\n",
            "1/1 [==============================] - 0s 80ms/step\n",
            "1/1 [==============================] - 0s 62ms/step\n",
            "1/1 [==============================] - 0s 115ms/step\n",
            "1/1 [==============================] - 0s 69ms/step\n",
            "1/1 [==============================] - 0s 64ms/step\n",
            "1/1 [==============================] - 0s 161ms/step\n",
            "1/1 [==============================] - 0s 78ms/step\n",
            "1/1 [==============================] - 0s 83ms/step\n",
            "1/1 [==============================] - 0s 78ms/step\n",
            "1/1 [==============================] - 0s 79ms/step\n",
            "1/1 [==============================] - 0s 142ms/step\n",
            "1/1 [==============================] - 0s 87ms/step\n",
            "1/1 [==============================] - 0s 88ms/step\n",
            "1/1 [==============================] - 0s 75ms/step\n",
            "1/1 [==============================] - 0s 106ms/step\n",
            "1/1 [==============================] - 0s 86ms/step\n",
            "1/1 [==============================] - 0s 101ms/step\n",
            "1/1 [==============================] - 0s 80ms/step\n",
            "1/1 [==============================] - 0s 70ms/step\n",
            "1/1 [==============================] - 0s 94ms/step\n",
            "1/1 [==============================] - 0s 73ms/step\n",
            "1/1 [==============================] - 0s 65ms/step\n",
            "1/1 [==============================] - 0s 82ms/step\n",
            "1/1 [==============================] - 0s 67ms/step\n",
            "1/1 [==============================] - 0s 64ms/step\n",
            "1/1 [==============================] - 0s 81ms/step\n",
            "1/1 [==============================] - 0s 72ms/step\n",
            "1/1 [==============================] - 0s 64ms/step\n",
            "1/1 [==============================] - 0s 74ms/step\n",
            "1/1 [==============================] - 0s 98ms/step\n",
            "1/1 [==============================] - 0s 67ms/step\n",
            "1/1 [==============================] - 0s 65ms/step\n",
            "1/1 [==============================] - 0s 66ms/step\n",
            "1/1 [==============================] - 0s 89ms/step\n",
            "1/1 [==============================] - 0s 79ms/step\n",
            "1/1 [==============================] - 0s 68ms/step\n",
            "1/1 [==============================] - 0s 112ms/step\n",
            "1/1 [==============================] - 0s 93ms/step\n",
            "1/1 [==============================] - 0s 73ms/step\n",
            "1/1 [==============================] - 0s 63ms/step\n",
            "1/1 [==============================] - 0s 64ms/step\n",
            "1/1 [==============================] - 0s 63ms/step\n",
            "1/1 [==============================] - 0s 97ms/step\n",
            "1/1 [==============================] - 0s 100ms/step\n",
            "1/1 [==============================] - 0s 167ms/step\n",
            "1/1 [==============================] - 0s 66ms/step\n",
            "1/1 [==============================] - 0s 80ms/step\n",
            "1/1 [==============================] - 0s 94ms/step\n",
            "1/1 [==============================] - 0s 84ms/step\n",
            "1/1 [==============================] - 0s 73ms/step\n",
            "1/1 [==============================] - 0s 72ms/step\n",
            "1/1 [==============================] - 0s 80ms/step\n",
            "1/1 [==============================] - 0s 70ms/step\n",
            "1/1 [==============================] - 0s 71ms/step\n",
            "1/1 [==============================] - 0s 84ms/step\n",
            "1/1 [==============================] - 0s 68ms/step\n",
            "1/1 [==============================] - 0s 65ms/step\n",
            "1/1 [==============================] - 0s 76ms/step\n",
            "1/1 [==============================] - 0s 73ms/step\n",
            "1/1 [==============================] - 0s 91ms/step\n",
            "1/1 [==============================] - 0s 74ms/step\n",
            "1/1 [==============================] - 0s 79ms/step\n",
            "1/1 [==============================] - 0s 74ms/step\n",
            "1/1 [==============================] - 0s 69ms/step\n",
            "1/1 [==============================] - 0s 67ms/step\n",
            "1/1 [==============================] - 0s 79ms/step\n",
            "1/1 [==============================] - 0s 72ms/step\n",
            "1/1 [==============================] - 0s 129ms/step\n",
            "1/1 [==============================] - 0s 74ms/step\n",
            "1/1 [==============================] - 0s 161ms/step\n",
            "1/1 [==============================] - 0s 83ms/step\n"
          ]
        }
      ],
      "source": [
        "relevant_wordsAdam = predict_labels(modelAdam, preprocessed_text,target_tags)"
      ]
    },
    {
      "cell_type": "code",
      "execution_count": 75,
      "metadata": {
        "execution": {
          "iopub.execute_input": "2024-06-28T16:36:39.084781Z",
          "iopub.status.busy": "2024-06-28T16:36:39.084400Z",
          "iopub.status.idle": "2024-06-28T16:36:39.092749Z",
          "shell.execute_reply": "2024-06-28T16:36:39.091706Z",
          "shell.execute_reply.started": "2024-06-28T16:36:39.084749Z"
        },
        "id": "fUT9CQpwjne0",
        "trusted": true
      },
      "outputs": [
        {
          "name": "stdout",
          "output_type": "stream",
          "text": [
            "Nomor putusan: 7/pid.b/2023/pn bkl\n",
            "Nama terdakwa: rizal kurniawan bin jatim\n",
            "Jenis dakwaan:  pencurian dalam keadaan memberatkan\n",
            "Melanggar uu: 363 ayat ( 1 ) ke - 5 kuhp\n",
            "Putusan hukuman: ( satu )\n",
            "Tuntutan hukuman: 1 ( satu ) tahun 4 empat bulan\n",
            "Tanggal putusan: 9 maret 2023\n",
            "Hakim ketua: putu wahyudi\n",
            "Hakim anggota: satrio budiono dan wahyu eko\n",
            "Penuntut umum: haidir rahman\n",
            "Panitera: muhammad hamdi\n"
          ]
        }
      ],
      "source": [
        "for key, words in relevant_wordsAdam.items():\n",
        "    if words:\n",
        "        if key.lower() == 'nomor putusan':\n",
        "            output = words.replace(' / ', '/').replace(' ','').replace('pn','pn ').replace('.b','.b/').replace('2021','2021/').replace('2022','2022/').replace('2023','2023/').replace('2024','2024/')\n",
        "        else:\n",
        "            output = words.replace('“','').replace('”','')\n",
        "        print(f\"{key.capitalize()}: {output}\")\n",
        "    else:\n",
        "        print(f\"Tidak ada kata dengan tag {key} dalam kalimat ini.\")"
      ]
    },
    {
      "cell_type": "markdown",
      "metadata": {
        "id": "nYWZObRhjne1"
      },
      "source": [
        "### Prediksi Rmsprop"
      ]
    },
    {
      "cell_type": "code",
      "execution_count": null,
      "metadata": {
        "execution": {
          "iopub.execute_input": "2024-06-28T16:36:39.094152Z",
          "iopub.status.busy": "2024-06-28T16:36:39.093866Z",
          "iopub.status.idle": "2024-06-28T16:37:05.381566Z",
          "shell.execute_reply": "2024-06-28T16:37:05.380597Z",
          "shell.execute_reply.started": "2024-06-28T16:36:39.094127Z"
        },
        "id": "YhkCT3ikjne1",
        "trusted": true
      },
      "outputs": [],
      "source": [
        "relevant_wordsRmsprop = predict_labels(modelRmsprop, preprocessed_text,target_tags)"
      ]
    },
    {
      "cell_type": "code",
      "execution_count": null,
      "metadata": {
        "execution": {
          "iopub.execute_input": "2024-06-28T16:37:05.383236Z",
          "iopub.status.busy": "2024-06-28T16:37:05.382904Z",
          "iopub.status.idle": "2024-06-28T16:37:05.391668Z",
          "shell.execute_reply": "2024-06-28T16:37:05.390600Z",
          "shell.execute_reply.started": "2024-06-28T16:37:05.383206Z"
        },
        "id": "Vw0MyTIkjne1",
        "trusted": true
      },
      "outputs": [],
      "source": [
        "for key, words in relevant_wordsRmsprop.items():\n",
        "    if words:\n",
        "        if key.lower() == 'nomor putusan':\n",
        "            output = words.replace(' / ', '/').replace(' ','').replace('pn','pn ').replace('.b','.b/').replace('2021','2021/').replace('2022','2022/').replace('2023','2023/').replace('2024','2024/')\n",
        "        else:\n",
        "            output = words.replace('“','').replace('”','')\n",
        "        print(f\"{key.capitalize()}: {output}\")\n",
        "    else:\n",
        "        print(f\"Tidak ada kata dengan tag {key} dalam kalimat ini.\")"
      ]
    },
    {
      "cell_type": "code",
      "execution_count": null,
      "metadata": {
        "id": "1QCTE6VBjne1"
      },
      "outputs": [],
      "source": []
    }
  ],
  "metadata": {
    "colab": {
      "provenance": [],
      "toc_visible": true
    },
    "kaggle": {
      "accelerator": "nvidiaTeslaT4",
      "dataSources": [
        {
          "datasetId": 4267316,
          "sourceId": 7348725,
          "sourceType": "datasetVersion"
        },
        {
          "datasetId": 4661183,
          "sourceId": 7930258,
          "sourceType": "datasetVersion"
        },
        {
          "datasetId": 4964048,
          "sourceId": 8354405,
          "sourceType": "datasetVersion"
        },
        {
          "datasetId": 5221794,
          "sourceId": 8705546,
          "sourceType": "datasetVersion"
        },
        {
          "datasetId": 5222129,
          "sourceId": 8706091,
          "sourceType": "datasetVersion"
        },
        {
          "datasetId": 5222355,
          "sourceId": 8706368,
          "sourceType": "datasetVersion"
        },
        {
          "datasetId": 5227716,
          "sourceId": 8713762,
          "sourceType": "datasetVersion"
        },
        {
          "datasetId": 5228008,
          "sourceId": 8714166,
          "sourceType": "datasetVersion"
        },
        {
          "datasetId": 5238676,
          "sourceId": 8728486,
          "sourceType": "datasetVersion"
        },
        {
          "datasetId": 5238723,
          "sourceId": 8728540,
          "sourceType": "datasetVersion"
        },
        {
          "datasetId": 5244239,
          "sourceId": 8735962,
          "sourceType": "datasetVersion"
        },
        {
          "datasetId": 5254394,
          "sourceId": 8748906,
          "sourceType": "datasetVersion"
        },
        {
          "datasetId": 5262382,
          "sourceId": 8759072,
          "sourceType": "datasetVersion"
        }
      ],
      "dockerImageVersionId": 30698,
      "isGpuEnabled": true,
      "isInternetEnabled": false,
      "language": "python",
      "sourceType": "notebook"
    },
    "kernelspec": {
      "display_name": "Python 3",
      "language": "python",
      "name": "python3"
    },
    "language_info": {
      "codemirror_mode": {
        "name": "ipython",
        "version": 3
      },
      "file_extension": ".py",
      "mimetype": "text/x-python",
      "name": "python",
      "nbconvert_exporter": "python",
      "pygments_lexer": "ipython3",
      "version": "3.11.2"
    }
  },
  "nbformat": 4,
  "nbformat_minor": 0
}
